{
  "nbformat": 4,
  "nbformat_minor": 0,
  "metadata": {
    "colab": {
      "provenance": [],
      "authorship_tag": "ABX9TyMUBnbdJSUVUZr34fGGhEfa",
      "include_colab_link": true
    },
    "kernelspec": {
      "name": "python3",
      "display_name": "Python 3"
    },
    "language_info": {
      "name": "python"
    }
  },
  "cells": [
    {
      "cell_type": "markdown",
      "metadata": {
        "id": "view-in-github",
        "colab_type": "text"
      },
      "source": [
        "<a href=\"https://colab.research.google.com/github/RitvikVankayala/NLP/blob/main/Spam_Detection.ipynb\" target=\"_parent\"><img src=\"https://colab.research.google.com/assets/colab-badge.svg\" alt=\"Open In Colab\"/></a>"
      ]
    },
    {
      "cell_type": "code",
      "execution_count": 47,
      "metadata": {
        "id": "cbQ1RauRWitL"
      },
      "outputs": [],
      "source": [
        "import numpy as np\n",
        "import pandas as pd\n",
        "import seaborn as sn\n",
        "import matplotlib.pyplot as plt\n",
        "from sklearn.feature_extraction.text import TfidfVectorizer,CountVectorizer\n",
        "from sklearn.model_selection import train_test_split\n",
        "from sklearn.metrics import roc_auc_score,f1_score,confusion_matrix\n",
        "from sklearn.naive_bayes import MultinomialNB\n",
        "from wordcloud import WordCloud"
      ]
    },
    {
      "cell_type": "code",
      "source": [
        "!wget https://lazyprogrammer.me/course_files/spam.csv"
      ],
      "metadata": {
        "id": "1mAxqy0xYQD8"
      },
      "execution_count": null,
      "outputs": []
    },
    {
      "cell_type": "code",
      "source": [
        "# here we will use a special encoding beacuse utf donot contain some char which we are using like emojis etc so we use a special encoding\n",
        "\n",
        "df=pd.read_csv('spam.csv',encoding='ISO-8859-1')"
      ],
      "metadata": {
        "id": "6988s7G0YYhk"
      },
      "execution_count": 49,
      "outputs": []
    },
    {
      "cell_type": "code",
      "source": [
        "df.head()"
      ],
      "metadata": {
        "id": "C5japzSlZFiE"
      },
      "execution_count": null,
      "outputs": []
    },
    {
      "cell_type": "code",
      "source": [
        "# for removing the unamed columns from the csv\n",
        "\n",
        "df=df.drop([\"Unnamed: 2\",\"Unnamed: 3\",\"Unnamed: 4\"],axis=1)"
      ],
      "metadata": {
        "id": "J1GolKqcZdME"
      },
      "execution_count": 51,
      "outputs": []
    },
    {
      "cell_type": "code",
      "source": [
        "df.head()"
      ],
      "metadata": {
        "id": "jlXqUGfFa25a"
      },
      "execution_count": null,
      "outputs": []
    },
    {
      "cell_type": "code",
      "source": [
        "df.columns=['labels','data']"
      ],
      "metadata": {
        "id": "VE06iHk1a6Ir"
      },
      "execution_count": 53,
      "outputs": []
    },
    {
      "cell_type": "code",
      "source": [
        "df.head()"
      ],
      "metadata": {
        "id": "anz9aHISbDXd"
      },
      "execution_count": null,
      "outputs": []
    },
    {
      "cell_type": "code",
      "source": [
        "# for knowing the imbalence of the classes\n",
        "labels=df['labels']\n",
        "labels.hist()"
      ],
      "metadata": {
        "id": "sxXIKe0ZbH1b"
      },
      "execution_count": null,
      "outputs": []
    },
    {
      "cell_type": "code",
      "source": [
        "# creating a new columns which consider spam as 1 and ham as 0\n",
        "\n",
        "df['b_labels']=labels.map({\"spam\":1 , \"ham\":0})\n",
        "Y=df['b_labels'].to_numpy()\n",
        "# print(Y[:5])\n"
      ],
      "metadata": {
        "id": "dExTdcASb1y6"
      },
      "execution_count": 56,
      "outputs": []
    },
    {
      "cell_type": "code",
      "source": [
        "df_train,df_test,Ytrain,Ytest=train_test_split(df['data'],Y,test_size=0.33)"
      ],
      "metadata": {
        "id": "gHq-jcKdclxU"
      },
      "execution_count": 57,
      "outputs": []
    },
    {
      "cell_type": "code",
      "source": [
        "# fitting the train and the test data\n",
        "\n",
        "# featurizer=TfidfVectorizer(decode_error='ignore')\n",
        "featurizer=CountVectorizer(decode_error='ignore')\n",
        "Xtrain=featurizer.fit_transform(df_train)\n",
        "Xtest=featurizer.transform(df_test)"
      ],
      "metadata": {
        "id": "_7uKHiZ4enE2"
      },
      "execution_count": 58,
      "outputs": []
    },
    {
      "cell_type": "code",
      "source": [
        "Xtrain"
      ],
      "metadata": {
        "id": "db3t-Wrwfdmg"
      },
      "execution_count": null,
      "outputs": []
    },
    {
      "cell_type": "code",
      "source": [
        "# predicting the accuracy\n",
        "\n",
        "model=MultinomialNB()\n",
        "model.fit(Xtrain,Ytrain)\n",
        "\n",
        "print(\"accuracy :\",model.score(Xtrain,Ytrain))\n",
        "print(\"accuracy :\",model.score(Xtest,Ytest))"
      ],
      "metadata": {
        "id": "Qzlw5ZENfjNt"
      },
      "execution_count": null,
      "outputs": []
    },
    {
      "cell_type": "code",
      "source": [
        "Ptrain=model.predict(Xtrain)\n",
        "Ptest=model.predict(Xtest)\n",
        "\n",
        "print(\"f1_score :\",f1_score(Ytrain,Ptrain))\n",
        "print(\"f1_score :\",f1_score(Ytest,Ptest))"
      ],
      "metadata": {
        "id": "RFLbprClkiK_"
      },
      "execution_count": null,
      "outputs": []
    },
    {
      "cell_type": "code",
      "source": [
        "# try doing this without error\n",
        "\n",
        "# prob_train=model.predict_proba(Xtrain[:,1])\n",
        "# prob_test=model.predict_proba(Xtest[:,1])\n",
        "\n",
        "# print(\"test_AUC :\",roc_auc_score(Ytrain,prob_train))\n",
        "# print(\"test_AUC :\",roc_auc_score(Ytest,prob_test))"
      ],
      "metadata": {
        "id": "yIBB_3QYlLNt"
      },
      "execution_count": 62,
      "outputs": []
    },
    {
      "cell_type": "code",
      "source": [
        "cm=confusion_matrix(Ytrain,Ptrain)\n",
        "cm"
      ],
      "metadata": {
        "id": "pCng50s0Qr-E"
      },
      "execution_count": null,
      "outputs": []
    },
    {
      "cell_type": "code",
      "source": [
        "def plot_cm(cm):\n",
        "\n",
        "  classes=['ham','spam']\n",
        "  df_cm=pd.DataFrame(cm,index=classes,columns=classes)\n",
        "  ax=sn.heatmap(df_cm,annot=True,fmt='g')\n",
        "  ax.set_xlabel(\"Predicted\")\n",
        "  ax.set_ylabel\n",
        "\n",
        "plot_cm(cm)"
      ],
      "metadata": {
        "id": "NG0KT6RcQ08v"
      },
      "execution_count": null,
      "outputs": []
    },
    {
      "cell_type": "code",
      "source": [
        "cm_test=confusion_matrix(Ytest,Ptest)\n",
        "plot_cm(cm_test)"
      ],
      "metadata": {
        "id": "wYzduoT8oYyu"
      },
      "execution_count": null,
      "outputs": []
    },
    {
      "cell_type": "code",
      "source": [
        "# lets visualize the data\n",
        "\n",
        "def visualize(label):\n",
        "  words=''\n",
        "  for msg in df[df['labels']==label]['data']:\n",
        "    msg=msg.lower()\n",
        "    words+=msg+' '\n",
        "  wordcloud=WordCloud(width=600,height=400).generate(words)\n",
        "  plt.imshow(wordcloud)\n",
        "  plt.axis('off')\n",
        "  plt.show()"
      ],
      "metadata": {
        "id": "KYVuQMeVopow"
      },
      "execution_count": 66,
      "outputs": []
    },
    {
      "cell_type": "code",
      "source": [
        "visualize('spam')"
      ],
      "metadata": {
        "id": "RwT1aRJFraud"
      },
      "execution_count": null,
      "outputs": []
    },
    {
      "cell_type": "code",
      "source": [
        "visualize('ham')"
      ],
      "metadata": {
        "id": "EOdH_R8dreLS"
      },
      "execution_count": null,
      "outputs": []
    },
    {
      "cell_type": "code",
      "source": [
        "# checking which prediction are wrong\n",
        "\n",
        "X=featurizer.transform(df['data'])\n",
        "df['predictions']=model.predict(X)"
      ],
      "metadata": {
        "id": "iebF5TmirgQ4"
      },
      "execution_count": 69,
      "outputs": []
    },
    {
      "cell_type": "code",
      "source": [
        "# data that should be spam but predicted as ham\n",
        "\n",
        "not_spam=df[df['predictions']==0 & (df['b_labels']==1)]['data']\n",
        "for msg in not_spam:\n",
        "  print(msg)"
      ],
      "metadata": {
        "id": "_AnkEcaisJ5n"
      },
      "execution_count": null,
      "outputs": []
    },
    {
      "cell_type": "code",
      "source": [
        "# data that should be ham but predicted as spam\n",
        "\n",
        "not_ham=df[df['predictions']==1 & (df['b_labels']==0)]['data']\n",
        "for msg in not_ham:\n",
        "  print(msg)"
      ],
      "metadata": {
        "id": "aQLrX2d4sJyy"
      },
      "execution_count": null,
      "outputs": []
    }
  ]
}