{
  "nbformat": 4,
  "nbformat_minor": 0,
  "metadata": {
    "colab": {
      "provenance": [],
      "authorship_tag": "ABX9TyPhaeLcg4l1NJTr2qmTZkYH",
      "include_colab_link": true
    },
    "kernelspec": {
      "name": "python3",
      "display_name": "Python 3"
    },
    "language_info": {
      "name": "python"
    }
  },
  "cells": [
    {
      "cell_type": "markdown",
      "metadata": {
        "id": "view-in-github",
        "colab_type": "text"
      },
      "source": [
        "<a href=\"https://colab.research.google.com/github/RitvikVankayala/NLP/blob/main/Recommender_System.ipynb\" target=\"_parent\"><img src=\"https://colab.research.google.com/assets/colab-badge.svg\" alt=\"Open In Colab\"/></a>"
      ]
    },
    {
      "cell_type": "code",
      "execution_count": null,
      "metadata": {
        "colab": {
          "base_uri": "https://localhost:8080/"
        },
        "id": "5rb2zGjycP7i",
        "outputId": "9d21f17b-7af8-4d55-e1e7-ed1750dff476"
      },
      "outputs": [
        {
          "output_type": "stream",
          "name": "stdout",
          "text": [
            "--2022-12-31 06:28:24--  https://lazyprogrammer.me/course_files/nlp/tmdb_5000_movies.csv\n",
            "Resolving lazyprogrammer.me (lazyprogrammer.me)... 104.21.23.210, 172.67.213.166, 2606:4700:3031::6815:17d2, ...\n",
            "Connecting to lazyprogrammer.me (lazyprogrammer.me)|104.21.23.210|:443... connected.\n",
            "HTTP request sent, awaiting response... 200 OK\n",
            "Length: 5698602 (5.4M) [text/csv]\n",
            "Saving to: ‘tmdb_5000_movies.csv.2’\n",
            "\n",
            "tmdb_5000_movies.cs 100%[===================>]   5.43M  --.-KB/s    in 0.09s   \n",
            "\n",
            "2022-12-31 06:28:24 (63.3 MB/s) - ‘tmdb_5000_movies.csv.2’ saved [5698602/5698602]\n",
            "\n"
          ]
        }
      ],
      "source": [
        "!wget https://lazyprogrammer.me/course_files/nlp/tmdb_5000_movies.csv"
      ]
    },
    {
      "cell_type": "code",
      "source": [
        "import pandas as pd\n",
        "import matplotlib.pyplot as plt\n",
        "import json"
      ],
      "metadata": {
        "id": "rk03_fC8cnmw"
      },
      "execution_count": null,
      "outputs": []
    },
    {
      "cell_type": "code",
      "source": [
        "from sklearn.feature_extraction.text import TfidfVectorizer\n",
        "from sklearn.metrics.pairwise import cosine_similarity,euclidean_distances"
      ],
      "metadata": {
        "id": "0zaepJBBc7HU"
      },
      "execution_count": null,
      "outputs": []
    },
    {
      "cell_type": "code",
      "source": [
        "df=pd.read_csv('tmdb_5000_movies.csv')"
      ],
      "metadata": {
        "id": "-QeHJl6ZeHpt"
      },
      "execution_count": null,
      "outputs": []
    },
    {
      "cell_type": "code",
      "source": [
        "df.head()\n",
        "df.shape"
      ],
      "metadata": {
        "colab": {
          "base_uri": "https://localhost:8080/"
        },
        "id": "CXU0CFuDe0DF",
        "outputId": "99502443-b69a-4767-f75c-747c0fea0029"
      },
      "execution_count": null,
      "outputs": [
        {
          "output_type": "execute_result",
          "data": {
            "text/plain": [
              "(4803, 20)"
            ]
          },
          "metadata": {},
          "execution_count": 37
        }
      ]
    },
    {
      "cell_type": "markdown",
      "source": [
        "We use iloc which is available in pandas for getting info from any particular row or column iloc[row,column]"
      ],
      "metadata": {
        "id": "NNESuI7RfQhP"
      }
    },
    {
      "cell_type": "code",
      "source": [
        "x=df.iloc[0]\n",
        "x"
      ],
      "metadata": {
        "colab": {
          "base_uri": "https://localhost:8080/"
        },
        "id": "iKhBJwzufbnN",
        "outputId": "e50521b6-f4a8-4e68-fa70-c2dbc309745e"
      },
      "execution_count": null,
      "outputs": [
        {
          "output_type": "execute_result",
          "data": {
            "text/plain": [
              "budget                                                          237000000\n",
              "genres                  [{\"id\": 28, \"name\": \"Action\"}, {\"id\": 12, \"nam...\n",
              "homepage                                      http://www.avatarmovie.com/\n",
              "id                                                                  19995\n",
              "keywords                [{\"id\": 1463, \"name\": \"culture clash\"}, {\"id\":...\n",
              "original_language                                                      en\n",
              "original_title                                                     Avatar\n",
              "overview                In the 22nd century, a paraplegic Marine is di...\n",
              "popularity                                                     150.437577\n",
              "production_companies    [{\"name\": \"Ingenious Film Partners\", \"id\": 289...\n",
              "production_countries    [{\"iso_3166_1\": \"US\", \"name\": \"United States o...\n",
              "release_date                                                   2009-12-10\n",
              "revenue                                                        2787965087\n",
              "runtime                                                             162.0\n",
              "spoken_languages        [{\"iso_639_1\": \"en\", \"name\": \"English\"}, {\"iso...\n",
              "status                                                           Released\n",
              "tagline                                       Enter the World of Pandora.\n",
              "title                                                              Avatar\n",
              "vote_average                                                          7.2\n",
              "vote_count                                                          11800\n",
              "Name: 0, dtype: object"
            ]
          },
          "metadata": {},
          "execution_count": 38
        }
      ]
    },
    {
      "cell_type": "code",
      "source": [
        "x['genres']"
      ],
      "metadata": {
        "colab": {
          "base_uri": "https://localhost:8080/",
          "height": 53
        },
        "id": "8UQurVeWfoVF",
        "outputId": "7c65f691-de8d-48cb-aa51-9b9fae88f7ca"
      },
      "execution_count": null,
      "outputs": [
        {
          "output_type": "execute_result",
          "data": {
            "text/plain": [
              "'[{\"id\": 28, \"name\": \"Action\"}, {\"id\": 12, \"name\": \"Adventure\"}, {\"id\": 14, \"name\": \"Fantasy\"}, {\"id\": 878, \"name\": \"Science Fiction\"}]'"
            ],
            "application/vnd.google.colaboratory.intrinsic+json": {
              "type": "string"
            }
          },
          "metadata": {},
          "execution_count": 39
        }
      ]
    },
    {
      "cell_type": "code",
      "source": [
        "x['keywords']"
      ],
      "metadata": {
        "colab": {
          "base_uri": "https://localhost:8080/",
          "height": 191
        },
        "id": "hrbc0O7egHXL",
        "outputId": "43de6f77-cb5d-4e03-ba62-448afb13876a"
      },
      "execution_count": null,
      "outputs": [
        {
          "output_type": "execute_result",
          "data": {
            "text/plain": [
              "'[{\"id\": 1463, \"name\": \"culture clash\"}, {\"id\": 2964, \"name\": \"future\"}, {\"id\": 3386, \"name\": \"space war\"}, {\"id\": 3388, \"name\": \"space colony\"}, {\"id\": 3679, \"name\": \"society\"}, {\"id\": 3801, \"name\": \"space travel\"}, {\"id\": 9685, \"name\": \"futuristic\"}, {\"id\": 9840, \"name\": \"romance\"}, {\"id\": 9882, \"name\": \"space\"}, {\"id\": 9951, \"name\": \"alien\"}, {\"id\": 10148, \"name\": \"tribe\"}, {\"id\": 10158, \"name\": \"alien planet\"}, {\"id\": 10987, \"name\": \"cgi\"}, {\"id\": 11399, \"name\": \"marine\"}, {\"id\": 13065, \"name\": \"soldier\"}, {\"id\": 14643, \"name\": \"battle\"}, {\"id\": 14720, \"name\": \"love affair\"}, {\"id\": 165431, \"name\": \"anti war\"}, {\"id\": 193554, \"name\": \"power relations\"}, {\"id\": 206690, \"name\": \"mind and soul\"}, {\"id\": 209714, \"name\": \"3d\"}]'"
            ],
            "application/vnd.google.colaboratory.intrinsic+json": {
              "type": "string"
            }
          },
          "metadata": {},
          "execution_count": 40
        }
      ]
    },
    {
      "cell_type": "markdown",
      "source": [
        "We use json.loads from converting json objects into python readable data like a dictionary"
      ],
      "metadata": {
        "id": "NsPjD96egUI8"
      }
    },
    {
      "cell_type": "code",
      "source": [
        "j=json.loads(x['genres'])\n",
        "j"
      ],
      "metadata": {
        "colab": {
          "base_uri": "https://localhost:8080/"
        },
        "id": "MZr4Y7ZbgTnf",
        "outputId": "4fdacffd-82c9-4f80-bf5f-fc48fcb8155e"
      },
      "execution_count": null,
      "outputs": [
        {
          "output_type": "execute_result",
          "data": {
            "text/plain": [
              "[{'id': 28, 'name': 'Action'},\n",
              " {'id': 12, 'name': 'Adventure'},\n",
              " {'id': 14, 'name': 'Fantasy'},\n",
              " {'id': 878, 'name': 'Science Fiction'}]"
            ]
          },
          "metadata": {},
          "execution_count": 41
        }
      ]
    },
    {
      "cell_type": "code",
      "source": [
        "' '.join(''.join(jj['name'].split()) for jj in j)"
      ],
      "metadata": {
        "colab": {
          "base_uri": "https://localhost:8080/",
          "height": 35
        },
        "id": "B9-zP-LtgnHX",
        "outputId": "b6c71926-14b6-45b9-fed1-ca55ef670593"
      },
      "execution_count": null,
      "outputs": [
        {
          "output_type": "execute_result",
          "data": {
            "text/plain": [
              "'Action Adventure Fantasy ScienceFiction'"
            ],
            "application/vnd.google.colaboratory.intrinsic+json": {
              "type": "string"
            }
          },
          "metadata": {},
          "execution_count": 42
        }
      ]
    },
    {
      "cell_type": "markdown",
      "source": [
        "Now we will do the similiar thing for each item of the data and join into a single string"
      ],
      "metadata": {
        "id": "g0Qoi8vNiz18"
      }
    },
    {
      "cell_type": "code",
      "source": [
        "def genres_and_keywords_to_string(row):\n",
        "  genres=json.loads(row['genres'])\n",
        "  genres=' '.join(''.join(j['name'].split()) for j in genres)\n",
        "\n",
        "  keywords=json.loads(row['keywords'])\n",
        "  keywords=' '.join(''.join(j['name'].split()) for j in keywords)\n",
        "\n",
        "  return \"%s %s\" % (genres,keywords)"
      ],
      "metadata": {
        "id": "K3CWwvsriyq6"
      },
      "execution_count": null,
      "outputs": []
    },
    {
      "cell_type": "markdown",
      "source": [
        "Creating a new column in the df for each movie"
      ],
      "metadata": {
        "id": "QvQ6UXa2j3mX"
      }
    },
    {
      "cell_type": "code",
      "source": [
        "df['string']=df.apply(genres_and_keywords_to_string,axis=1)"
      ],
      "metadata": {
        "id": "tN_8YxmUi3cY"
      },
      "execution_count": null,
      "outputs": []
    },
    {
      "cell_type": "code",
      "source": [
        "#creating an instance for using the tfidf\n",
        "# 2000 mostly reapeting features are only taken\n",
        "tfidf=TfidfVectorizer(max_features=2000)"
      ],
      "metadata": {
        "id": "XgsYZss6jf_6"
      },
      "execution_count": null,
      "outputs": []
    },
    {
      "cell_type": "markdown",
      "source": [
        "Creates a data matrix from the Total dataset"
      ],
      "metadata": {
        "id": "LHOvvAJjk-Lh"
      }
    },
    {
      "cell_type": "code",
      "source": [
        "X=tfidf.fit_transform(df['string'])"
      ],
      "metadata": {
        "id": "gPlPEcdukSYV"
      },
      "execution_count": null,
      "outputs": []
    },
    {
      "cell_type": "code",
      "source": [
        "X"
      ],
      "metadata": {
        "colab": {
          "base_uri": "https://localhost:8080/"
        },
        "id": "SXwdYchaki7q",
        "outputId": "f03a7426-6ee8-4699-e9a6-cd6e8695a30c"
      },
      "execution_count": null,
      "outputs": [
        {
          "output_type": "execute_result",
          "data": {
            "text/plain": [
              "<4803x2000 sparse matrix of type '<class 'numpy.float64'>'\n",
              "\twith 37285 stored elements in Compressed Sparse Row format>"
            ]
          },
          "metadata": {},
          "execution_count": 47
        }
      ]
    },
    {
      "cell_type": "code",
      "source": [
        "# we will generate a mapping from movie title to index\n",
        "# index=#### is inbuild to know the index type\n",
        "movie2idx=pd.Series(df.index,index=df['title'])\n",
        "movie2idx"
      ],
      "metadata": {
        "colab": {
          "base_uri": "https://localhost:8080/"
        },
        "id": "LjSEhPYylXmi",
        "outputId": "6bee5835-bbba-485f-fffc-b54a8fe96c55"
      },
      "execution_count": null,
      "outputs": [
        {
          "output_type": "execute_result",
          "data": {
            "text/plain": [
              "title\n",
              "Avatar                                         0\n",
              "Pirates of the Caribbean: At World's End       1\n",
              "Spectre                                        2\n",
              "The Dark Knight Rises                          3\n",
              "John Carter                                    4\n",
              "                                            ... \n",
              "El Mariachi                                 4798\n",
              "Newlyweds                                   4799\n",
              "Signed, Sealed, Delivered                   4800\n",
              "Shanghai Calling                            4801\n",
              "My Date with Drew                           4802\n",
              "Length: 4803, dtype: int64"
            ]
          },
          "metadata": {},
          "execution_count": 48
        }
      ]
    },
    {
      "cell_type": "code",
      "source": [
        "idx=movie2idx['Spectre']\n",
        "idx"
      ],
      "metadata": {
        "colab": {
          "base_uri": "https://localhost:8080/"
        },
        "id": "IOqrvDMR1644",
        "outputId": "06f97b09-0d6a-4128-f689-eac2a7c29312"
      },
      "execution_count": null,
      "outputs": [
        {
          "output_type": "execute_result",
          "data": {
            "text/plain": [
              "2"
            ]
          },
          "metadata": {},
          "execution_count": 49
        }
      ]
    },
    {
      "cell_type": "code",
      "source": [
        "query=X[idx]\n",
        "query"
      ],
      "metadata": {
        "colab": {
          "base_uri": "https://localhost:8080/"
        },
        "id": "PHUWXilD2D-T",
        "outputId": "32b2131a-f74b-4279-f40f-785760375dae"
      },
      "execution_count": null,
      "outputs": [
        {
          "output_type": "execute_result",
          "data": {
            "text/plain": [
              "<1x2000 sparse matrix of type '<class 'numpy.float64'>'\n",
              "\twith 8 stored elements in Compressed Sparse Row format>"
            ]
          },
          "metadata": {},
          "execution_count": 50
        }
      ]
    },
    {
      "cell_type": "code",
      "source": [
        "#print the query vector\n",
        "query.toarray()"
      ],
      "metadata": {
        "colab": {
          "base_uri": "https://localhost:8080/"
        },
        "id": "tIZLbtcG2ssX",
        "outputId": "7b896793-1171-4a33-fdc7-a9caba17c3c5"
      },
      "execution_count": null,
      "outputs": [
        {
          "output_type": "execute_result",
          "data": {
            "text/plain": [
              "array([[0., 0., 0., ..., 0., 0., 0.]])"
            ]
          },
          "metadata": {},
          "execution_count": 51
        }
      ]
    },
    {
      "cell_type": "code",
      "source": [
        "#computing the cosine similarity\n",
        "\n",
        "scores=cosine_similarity(query,X)\n",
        "scores"
      ],
      "metadata": {
        "colab": {
          "base_uri": "https://localhost:8080/"
        },
        "id": "lh9lsVjS3jYa",
        "outputId": "4b927e4f-dc68-496f-fca9-8adbaebcc256"
      },
      "execution_count": null,
      "outputs": [
        {
          "output_type": "execute_result",
          "data": {
            "text/plain": [
              "array([[0.03694098, 0.03875415, 1.        , ..., 0.        , 0.        ,\n",
              "        0.        ]])"
            ]
          },
          "metadata": {},
          "execution_count": 52
        }
      ]
    },
    {
      "cell_type": "code",
      "source": [
        "# converting 1*N matrix to a 1d array\n",
        "\n",
        "scores=scores.flatten()\n",
        "scores"
      ],
      "metadata": {
        "colab": {
          "base_uri": "https://localhost:8080/"
        },
        "id": "9d_6kWMO4i_t",
        "outputId": "51883f1b-bd3b-4017-bc6c-55b71cf5010a"
      },
      "execution_count": null,
      "outputs": [
        {
          "output_type": "execute_result",
          "data": {
            "text/plain": [
              "array([0.03694098, 0.03875415, 1.        , ..., 0.        , 0.        ,\n",
              "       0.        ])"
            ]
          },
          "metadata": {},
          "execution_count": 53
        }
      ]
    },
    {
      "cell_type": "code",
      "source": [
        "plt.plot(scores)"
      ],
      "metadata": {
        "colab": {
          "base_uri": "https://localhost:8080/",
          "height": 282
        },
        "id": "YbgXrPhr4vLu",
        "outputId": "0e8d5d5e-574b-47e6-e6c1-b6c8e4591451"
      },
      "execution_count": null,
      "outputs": [
        {
          "output_type": "execute_result",
          "data": {
            "text/plain": [
              "[<matplotlib.lines.Line2D at 0x7f5059005a60>]"
            ]
          },
          "metadata": {},
          "execution_count": 54
        },
        {
          "output_type": "display_data",
          "data": {
            "text/plain": [
              "<Figure size 432x288 with 1 Axes>"
            ],
            "image/png": "[encoded data removed]"
          },
          "metadata": {
            "needs_background": "light"
          }
        }
      ]
    },
    {
      "cell_type": "code",
      "source": [
        "# we will sort the scores in descending order so that we can get the top Five similiar movies as query\n",
        "# array.argsort() gives the indexes of the elements in ascending order\n",
        "ordered_scores=(-scores).argsort()"
      ],
      "metadata": {
        "id": "GIEau2WQ5w7-"
      },
      "execution_count": null,
      "outputs": []
    },
    {
      "cell_type": "code",
      "source": [
        "plt.plot(scores[ordered_scores])"
      ],
      "metadata": {
        "colab": {
          "base_uri": "https://localhost:8080/",
          "height": 282
        },
        "id": "jTMr4hoI6Vve",
        "outputId": "b35c07e4-aa7e-4bf4-9ce7-a9babbefc6f6"
      },
      "execution_count": null,
      "outputs": [
        {
          "output_type": "execute_result",
          "data": {
            "text/plain": [
              "[<matplotlib.lines.Line2D at 0x7f5058a98370>]"
            ]
          },
          "metadata": {},
          "execution_count": 62
        },
        {
          "output_type": "display_data",
          "data": {
            "text/plain": [
              "<Figure size 432x288 with 1 Axes>"
            ],
            "image/png": "[encoded data removed]"
          },
          "metadata": {
            "needs_background": "light"
          }
        }
      ]
    },
    {
      "cell_type": "code",
      "source": [
        " #retreiving the top fives matches\n",
        "\n",
        "recommended_idx=ordered_scores[1:6]"
      ],
      "metadata": {
        "id": "ksttA9Yd7FUb"
      },
      "execution_count": 64,
      "outputs": []
    },
    {
      "cell_type": "code",
      "source": [
        "# converting indexes to movies titles\n",
        "df['title'].iloc[recommended_idx]"
      ],
      "metadata": {
        "colab": {
          "base_uri": "https://localhost:8080/"
        },
        "id": "1rXoFK_o89Zz",
        "outputId": "824ec98d-9d26-463c-b381-dba15e47fcdc"
      },
      "execution_count": 66,
      "outputs": [
        {
          "output_type": "execute_result",
          "data": {
            "text/plain": [
              "11      Quantum of Solace\n",
              "147       Die Another Day\n",
              "29                Skyfall\n",
              "3285             Restless\n",
              "2644            Ong Bak 2\n",
              "Name: title, dtype: object"
            ]
          },
          "metadata": {},
          "execution_count": 66
        }
      ]
    },
    {
      "cell_type": "code",
      "source": [
        "# creating a generalized function for the recommendation system\n",
        "\n",
        "def recommend(title):\n",
        "  idx=movie2idx[title]\n",
        "\n",
        "  # if multiple titles have same movie name it just generate a pd series so we need to just grab the first idx\n",
        "  if type(idx)==pd.Series:\n",
        "    idx=idx.iloc[0]\n",
        "  \n",
        "  # Now calculating the cosine_similarity\n",
        "  query=X[idx]\n",
        "  scores=cosine_similarity(query,X)\n",
        "\n",
        "  # converty pandas data frame to a 1d array\n",
        "  scores=scores.flatten()\n",
        "\n",
        "  # Sorting in descending order for the recommendations\n",
        "  ordered_idx=(-scores).argsort()\n",
        "  recommended_idx=ordered_idx[1:6]\n",
        "\n",
        "  # returning the titles\n",
        "  return df['title'].iloc[recommended_idx]\n"
      ],
      "metadata": {
        "id": "yz03w4aN9RV8"
      },
      "execution_count": 72,
      "outputs": []
    },
    {
      "cell_type": "code",
      "source": [
        "print(\"Recommendation for 'Avatar' : \")\n",
        "print(recommend('Avatar'))"
      ],
      "metadata": {
        "colab": {
          "base_uri": "https://localhost:8080/"
        },
        "id": "wEWOjkaVArib",
        "outputId": "4554abcb-d43d-4a67-c844-edeab7bf3e25"
      },
      "execution_count": 74,
      "outputs": [
        {
          "output_type": "stream",
          "name": "stdout",
          "text": [
            "Recommendation for 'Avatar' : \n",
            "47      Star Trek Into Darkness\n",
            "3214                 Barbarella\n",
            "1287         A Monster in Paris\n",
            "61            Jupiter Ascending\n",
            "3730                      Cargo\n",
            "Name: title, dtype: object\n"
          ]
        }
      ]
    }
  ]
}