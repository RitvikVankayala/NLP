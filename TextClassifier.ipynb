{
  "nbformat": 4,
  "nbformat_minor": 0,
  "metadata": {
    "colab": {
      "provenance": [],
      "authorship_tag": "ABX9TyMGKBSFlQMYcAJ2kDXgZlp5",
      "include_colab_link": true
    },
    "kernelspec": {
      "name": "python3",
      "display_name": "Python 3"
    },
    "language_info": {
      "name": "python"
    }
  },
  "cells": [
    {
      "cell_type": "markdown",
      "metadata": {
        "id": "view-in-github",
        "colab_type": "text"
      },
      "source": [
        "<a href=\"https://colab.research.google.com/github/RitvikVankayala/NLP/blob/main/TextClassifier.ipynb\" target=\"_parent\"><img src=\"https://colab.research.google.com/assets/colab-badge.svg\" alt=\"Open In Colab\"/></a>"
      ]
    },
    {
      "cell_type": "code",
      "execution_count": 61,
      "metadata": {
        "id": "2cCT_FH57vab",
        "colab": {
          "base_uri": "https://localhost:8080/"
        },
        "outputId": "1f390a2a-c7b8-424d-bb2c-651e222f8044"
      },
      "outputs": [
        {
          "output_type": "stream",
          "name": "stdout",
          "text": [
            "File ‘edgar_allan_poe.txt’ already there; not retrieving.\n",
            "\n",
            "File ‘robert_frost.txt’ already there; not retrieving.\n",
            "\n"
          ]
        }
      ],
      "source": [
        "!wget -nc https://raw.githubusercontent.com/lazyprogrammer/machine_learning_examples/master/hmm_class/edgar_allan_poe.txt\n",
        "!wget -nc https://raw.githubusercontent.com/lazyprogrammer/machine_learning_examples/master/hmm_class/robert_frost.txt"
      ]
    },
    {
      "cell_type": "code",
      "source": [
        "import numpy as np\n",
        "import matplotlib.pyplot as plt\n",
        "import string \n",
        "from sklearn.model_selection import train_test_split"
      ],
      "metadata": {
        "id": "pULLdTXX-_9Y"
      },
      "execution_count": 62,
      "outputs": []
    },
    {
      "cell_type": "code",
      "source": [
        "ip_files=['edgar_allan_poe.txt','robert_frost.txt']"
      ],
      "metadata": {
        "id": "YVv4yHi2_Qxo"
      },
      "execution_count": 63,
      "outputs": []
    },
    {
      "cell_type": "code",
      "source": [
        "!head edgar_allan_poe.txt"
      ],
      "metadata": {
        "id": "T77WzLYg_uyg",
        "colab": {
          "base_uri": "https://localhost:8080/"
        },
        "outputId": "8cc4fb17-0555-4698-a398-9310f5a36c7b"
      },
      "execution_count": 64,
      "outputs": [
        {
          "output_type": "stream",
          "name": "stdout",
          "text": [
            "LO! Death hath rear'd himself a throne\n",
            "In a strange city, all alone,\n",
            "Far down within the dim west\n",
            "Where the good, and the bad, and the worst, and the best,\n",
            "Have gone to their eternal rest.\n",
            " \n",
            "There shrines, and palaces, and towers\n",
            "Are not like any thing of ours\n",
            "Oh no! O no! ours never loom\n",
            "To heaven with that ungodly gloom!\n"
          ]
        }
      ]
    },
    {
      "cell_type": "code",
      "source": [
        "!head robert_frost.txt"
      ],
      "metadata": {
        "id": "a_g7BpPJA7VR",
        "colab": {
          "base_uri": "https://localhost:8080/"
        },
        "outputId": "19dab610-038a-424f-f4e8-30df74301106"
      },
      "execution_count": 65,
      "outputs": [
        {
          "output_type": "stream",
          "name": "stdout",
          "text": [
            "Two roads diverged in a yellow wood,\n",
            "And sorry I could not travel both\n",
            "And be one traveler, long I stood\n",
            "And looked down one as far as I could\n",
            "To where it bent in the undergrowth; \n",
            "\n",
            "Then took the other, as just as fair,\n",
            "And having perhaps the better claim\n",
            "Because it was grassy and wanted wear,\n",
            "Though as for that the passing there\n"
          ]
        }
      ]
    },
    {
      "cell_type": "code",
      "source": [
        "# collecting data into lists\n",
        "input_texts=[]\n",
        "labels=[]"
      ],
      "metadata": {
        "id": "iV0o7xLZV_u7"
      },
      "execution_count": 66,
      "outputs": []
    },
    {
      "cell_type": "code",
      "source": [
        "for label,f in enumerate(ip_files):\n",
        "  print(f\"{f} corresponds to label {label}\")\n",
        "# open(f) will give the info about the poem with lines\n",
        "# while using open in py we will get an extra new line char to remove it we will use rstrip()\n",
        "  for line in open(f):\n",
        "    line=line.rstrip().lower()\n",
        "    if line:\n",
        "      #remove punctuation\n",
        "      line=line.translate(str.maketrans('','',string.punctuation))\n",
        "\n",
        "      input_texts.append(line)\n",
        "      labels.append(label)"
      ],
      "metadata": {
        "id": "KV5YGzadWOXj",
        "colab": {
          "base_uri": "https://localhost:8080/"
        },
        "outputId": "ae7eb359-43f8-4772-ef99-d1b3f0299ced"
      },
      "execution_count": 67,
      "outputs": [
        {
          "output_type": "stream",
          "name": "stdout",
          "text": [
            "edgar_allan_poe.txt corresponds to label 0\n",
            "robert_frost.txt corresponds to label 1\n"
          ]
        }
      ]
    },
    {
      "cell_type": "code",
      "source": [
        "train_text,test_text,Ytrain,Ytest=train_test_split(input_texts,labels)"
      ],
      "metadata": {
        "id": "eQmx4bWsY_QL"
      },
      "execution_count": 68,
      "outputs": []
    },
    {
      "cell_type": "code",
      "source": [
        "len(Ytrain),len(Ytest)"
      ],
      "metadata": {
        "id": "Xq08a9AUZRwj",
        "colab": {
          "base_uri": "https://localhost:8080/"
        },
        "outputId": "3f80203c-ffcc-4f48-a026-c09cd2e6cae9"
      },
      "execution_count": 69,
      "outputs": [
        {
          "output_type": "execute_result",
          "data": {
            "text/plain": [
              "(1615, 539)"
            ]
          },
          "metadata": {},
          "execution_count": 69
        }
      ]
    },
    {
      "cell_type": "code",
      "source": [
        "train_text[:5]"
      ],
      "metadata": {
        "id": "opri6a9MZhGc",
        "colab": {
          "base_uri": "https://localhost:8080/"
        },
        "outputId": "c734114c-3ffc-4f5d-94f4-f71ec55022ba"
      },
      "execution_count": 70,
      "outputs": [
        {
          "output_type": "execute_result",
          "data": {
            "text/plain": [
              "['it took the hall door for the novelty',\n",
              " 'to where it bent in the undergrowth',\n",
              " 'when all who would come seeking in new hampshire',\n",
              " 'once fair and stately palace ',\n",
              " 'the surest thing there is is we are riders']"
            ]
          },
          "metadata": {},
          "execution_count": 70
        }
      ]
    },
    {
      "cell_type": "code",
      "source": [
        "Ytrain[:5]"
      ],
      "metadata": {
        "id": "R6Ic7rVZZmUz",
        "colab": {
          "base_uri": "https://localhost:8080/"
        },
        "outputId": "418fb757-49c2-4efd-d468-4648b02a6ba9"
      },
      "execution_count": 71,
      "outputs": [
        {
          "output_type": "execute_result",
          "data": {
            "text/plain": [
              "[1, 1, 1, 0, 1]"
            ]
          },
          "metadata": {},
          "execution_count": 71
        }
      ]
    },
    {
      "cell_type": "code",
      "source": [
        "idx=1\n",
        "word2idx={'<unk>':0}"
      ],
      "metadata": {
        "id": "_FxESCurZpQy"
      },
      "execution_count": 72,
      "outputs": []
    },
    {
      "cell_type": "code",
      "source": [
        "# populate the word2idx\n",
        "\n",
        "for text in train_text:\n",
        "  tokens=text.split()\n",
        "  for token in tokens:\n",
        "    if token not in word2idx:\n",
        "      word2idx[token]=idx\n",
        "      idx+=1"
      ],
      "metadata": {
        "id": "32pUbBCcbX2L"
      },
      "execution_count": 73,
      "outputs": []
    },
    {
      "cell_type": "code",
      "source": [
        "word2idx"
      ],
      "metadata": {
        "id": "FwUsCST6buoM",
        "colab": {
          "base_uri": "https://localhost:8080/"
        },
        "outputId": "034e63ab-d3ba-4e22-961a-7dfc8e64c3f2"
      },
      "execution_count": 74,
      "outputs": [
        {
          "output_type": "execute_result",
          "data": {
            "text/plain": [
              "{'<unk>': 0,\n",
              " 'it': 1,\n",
              " 'took': 2,\n",
              " 'the': 3,\n",
              " 'hall': 4,\n",
              " 'door': 5,\n",
              " 'for': 6,\n",
              " 'novelty': 7,\n",
              " 'to': 8,\n",
              " 'where': 9,\n",
              " 'bent': 10,\n",
              " 'in': 11,\n",
              " 'undergrowth': 12,\n",
              " 'when': 13,\n",
              " 'all': 14,\n",
              " 'who': 15,\n",
              " 'would': 16,\n",
              " 'come': 17,\n",
              " 'seeking': 18,\n",
              " 'new': 19,\n",
              " 'hampshire': 20,\n",
              " 'once': 21,\n",
              " 'fair': 22,\n",
              " 'and': 23,\n",
              " 'stately': 24,\n",
              " 'palace': 25,\n",
              " 'surest': 26,\n",
              " 'thing': 27,\n",
              " 'there': 28,\n",
              " 'is': 29,\n",
              " 'we': 30,\n",
              " 'are': 31,\n",
              " 'riders': 32,\n",
              " 'got': 33,\n",
              " 'them': 34,\n",
              " 'off': 35,\n",
              " 'wild': 36,\n",
              " 'flowers': 37,\n",
              " 'backs': 38,\n",
              " 'but': 39,\n",
              " 'burden': 40,\n",
              " 'of': 41,\n",
              " 'its': 42,\n",
              " 'body': 43,\n",
              " 'song': 44,\n",
              " 'among': 45,\n",
              " 'unearthed': 46,\n",
              " 'potatoes': 47,\n",
              " 'standing': 48,\n",
              " 'still': 49,\n",
              " 'nothings': 50,\n",
              " 'too': 51,\n",
              " 'good': 52,\n",
              " 'say': 53,\n",
              " 'pays': 54,\n",
              " 'cross': 55,\n",
              " 'lots': 56,\n",
              " 'walls': 57,\n",
              " 'everything': 58,\n",
              " 'having': 59,\n",
              " 'interfered': 60,\n",
              " 'huse': 61,\n",
              " 'business': 62,\n",
              " 'then': 63,\n",
              " 'up': 64,\n",
              " 'i': 65,\n",
              " 'think': 66,\n",
              " 'ill': 67,\n",
              " 'get': 68,\n",
              " 'away': 69,\n",
              " 'fight': 70,\n",
              " 'a': 71,\n",
              " 'smother': 72,\n",
              " 'hog': 73,\n",
              " 'reeve': 74,\n",
              " 'march': 75,\n",
              " 'meeting': 76,\n",
              " 'here': 77,\n",
              " 'warren': 78,\n",
              " 'that': 79,\n",
              " 'journeyed': 80,\n",
              " 'down': 81,\n",
              " 'struck': 82,\n",
              " 'road': 83,\n",
              " 'didnt': 84,\n",
              " 'recognize': 85,\n",
              " 'he': 86,\n",
              " 'came': 87,\n",
              " 'at': 88,\n",
              " 'me': 89,\n",
              " 'with': 90,\n",
              " 'one': 91,\n",
              " 'hand': 92,\n",
              " 'outstretched': 93,\n",
              " 'this': 94,\n",
              " 'wonderful': 95,\n",
              " 'plan': 96,\n",
              " 'without': 97,\n",
              " 'danger': 98,\n",
              " 'or': 99,\n",
              " 'loss': 100,\n",
              " 'front': 101,\n",
              " 'town': 102,\n",
              " 'id': 103,\n",
              " 'left': 104,\n",
              " 'him': 105,\n",
              " 'hitched': 106,\n",
              " 'mother': 107,\n",
              " 'only': 108,\n",
              " 'fault': 109,\n",
              " 'my': 110,\n",
              " 'husband': 111,\n",
              " 'found': 112,\n",
              " 'from': 113,\n",
              " 'finished': 114,\n",
              " 'bedroom': 115,\n",
              " 'flight': 116,\n",
              " 'cellar': 117,\n",
              " 'kitchen': 118,\n",
              " 'whos': 119,\n",
              " 'button': 120,\n",
              " 'have': 121,\n",
              " 'know': 122,\n",
              " 'looking': 123,\n",
              " 'another': 124,\n",
              " 'try': 125,\n",
              " 'more': 126,\n",
              " 'sovereignty': 127,\n",
              " 'than': 128,\n",
              " 'ancient': 129,\n",
              " 'lore': 130,\n",
              " 'build': 131,\n",
              " 'chimney': 132,\n",
              " 'clear': 133,\n",
              " 'ground': 134,\n",
              " 'if': 135,\n",
              " 'aknown': 136,\n",
              " 'was': 137,\n",
              " 'young': 138,\n",
              " 'quenching': 139,\n",
              " 'fires': 140,\n",
              " 'ashes': 141,\n",
              " 'hide': 142,\n",
              " 'let': 143,\n",
              " 'future': 144,\n",
              " 'radiant': 145,\n",
              " 'shine': 146,\n",
              " 'what': 147,\n",
              " 'they': 148,\n",
              " 'trying': 149,\n",
              " 'do': 150,\n",
              " 'these': 151,\n",
              " 'two': 152,\n",
              " 'hardly': 153,\n",
              " 'breathe': 154,\n",
              " 'want': 155,\n",
              " 'fifteen': 156,\n",
              " 'time': 157,\n",
              " 'while': 158,\n",
              " 'invested': 159,\n",
              " 'reasons': 160,\n",
              " 'merrily': 161,\n",
              " 'live': 162,\n",
              " 'long': 163,\n",
              " 'hope': 164,\n",
              " 'beauty': 165,\n",
              " 'tonight': 166,\n",
              " 'sometimes': 167,\n",
              " 'something': 168,\n",
              " 'seemed': 169,\n",
              " 'yield': 170,\n",
              " 'ultimate': 171,\n",
              " 'climes': 172,\n",
              " 'pole': 173,\n",
              " 'on': 174,\n",
              " 'grave': 175,\n",
              " 'growing': 176,\n",
              " 'grown': 177,\n",
              " 'bowed': 178,\n",
              " 'outward': 179,\n",
              " 'mountain': 180,\n",
              " 'halfway': 181,\n",
              " 'just': 182,\n",
              " 'fun': 183,\n",
              " 'way': 184,\n",
              " 'gets': 185,\n",
              " 'bedeviled': 186,\n",
              " 'today': 187,\n",
              " 'son': 188,\n",
              " 'forty': 189,\n",
              " 'years': 190,\n",
              " 'ago': 191,\n",
              " 'like': 192,\n",
              " 'starlight': 193,\n",
              " 'pall': 194,\n",
              " 'sybilic': 195,\n",
              " 'splendor': 196,\n",
              " 'beaming': 197,\n",
              " 'along': 198,\n",
              " 'wilderness': 199,\n",
              " 'glass': 200,\n",
              " 'oh': 201,\n",
              " 'you': 202,\n",
              " 'ask': 203,\n",
              " 'will': 204,\n",
              " 'pen': 205,\n",
              " 'falls': 206,\n",
              " 'powerless': 207,\n",
              " 'shivering': 208,\n",
              " 'dont': 209,\n",
              " 'voices': 210,\n",
              " 'seem': 211,\n",
              " 'make': 212,\n",
              " 'present': 213,\n",
              " 'each': 214,\n",
              " 'other': 215,\n",
              " 'ghoulhaunted': 216,\n",
              " 'woodland': 217,\n",
              " 'weir': 218,\n",
              " 'storms': 219,\n",
              " 'meanwhile': 220,\n",
              " 'likeness': 221,\n",
              " 'surprise': 222,\n",
              " 'thrilly': 223,\n",
              " 'tourist': 224,\n",
              " 'find': 225,\n",
              " 'fountain': 226,\n",
              " 'takes': 227,\n",
              " 'summer': 228,\n",
              " 'gnaws': 229,\n",
              " 'stable': 230,\n",
              " 'aint': 231,\n",
              " 'no': 232,\n",
              " 'proof': 233,\n",
              " 'some': 234,\n",
              " 'money': 235,\n",
              " 'suddenly': 236,\n",
              " 'into': 237,\n",
              " 'detail': 238,\n",
              " 'burned': 239,\n",
              " 'dissolved': 240,\n",
              " 'broken': 241,\n",
              " 'had': 242,\n",
              " 'spilled': 243,\n",
              " 'near': 244,\n",
              " 'window': 245,\n",
              " 'toward': 246,\n",
              " 'light': 247,\n",
              " 'israfelis': 248,\n",
              " 'fire': 249,\n",
              " 'unless': 250,\n",
              " 'be': 251,\n",
              " 'dread': 252,\n",
              " 'ominous': 253,\n",
              " 'stain': 254,\n",
              " 'tar': 255,\n",
              " 'ran': 256,\n",
              " 'shouted': 257,\n",
              " 'shut': 258,\n",
              " 'rests': 259,\n",
              " 'us': 260,\n",
              " 'always': 261,\n",
              " 'cut': 262,\n",
              " 'her': 263,\n",
              " 'swellings': 264,\n",
              " 'hint': 265,\n",
              " 'winds': 266,\n",
              " 'may': 267,\n",
              " 'bones': 268,\n",
              " 'out': 269,\n",
              " 'through': 270,\n",
              " 'presented': 271,\n",
              " 'land': 272,\n",
              " 'tide': 273,\n",
              " 'our': 274,\n",
              " 'thoughts': 275,\n",
              " 'were': 276,\n",
              " 'palsied': 277,\n",
              " 'sere': 278,\n",
              " 'sounds': 279,\n",
              " 'sweep': 280,\n",
              " 'not': 281,\n",
              " 'call': 282,\n",
              " 'back': 283,\n",
              " 'goodbye': 284,\n",
              " 'as': 285,\n",
              " 'dew': 286,\n",
              " 'night': 287,\n",
              " 'oer': 288,\n",
              " 'grass': 289,\n",
              " 'upon': 290,\n",
              " 'farm': 291,\n",
              " 'his': 292,\n",
              " 'spirit': 293,\n",
              " 'communing': 294,\n",
              " 'an': 295,\n",
              " 'angels': 296,\n",
              " 'house': 297,\n",
              " 'remembered': 298,\n",
              " 'dank': 299,\n",
              " 'tarn': 300,\n",
              " 'auber': 301,\n",
              " 'quietude': 302,\n",
              " 'sultriness': 303,\n",
              " 'slumber': 304,\n",
              " 'sound': 305,\n",
              " 'day': 306,\n",
              " 'since': 307,\n",
              " 'gave': 308,\n",
              " 'pretense': 309,\n",
              " 'keeping': 310,\n",
              " 'covered': 311,\n",
              " 'either': 312,\n",
              " 'cloud': 313,\n",
              " 'smoke': 314,\n",
              " 'misting': 315,\n",
              " 'lets': 316,\n",
              " 'faster': 317,\n",
              " 'slower': 318,\n",
              " 'chanced': 319,\n",
              " 'wentworth': 320,\n",
              " 'now': 321,\n",
              " 'alls': 322,\n",
              " 'said': 323,\n",
              " 'shall': 324,\n",
              " 'telling': 325,\n",
              " 'sigh': 326,\n",
              " 'by': 327,\n",
              " 'witch': 328,\n",
              " 'happened': 329,\n",
              " 'how': 330,\n",
              " 'fairylike': 331,\n",
              " 'melody': 332,\n",
              " 'floats': 333,\n",
              " 'much': 334,\n",
              " 'concerned': 335,\n",
              " 'those': 336,\n",
              " 'whom': 337,\n",
              " 'strapping': 338,\n",
              " 'girl': 339,\n",
              " 'twenty': 340,\n",
              " 'rights': 341,\n",
              " 'harder': 342,\n",
              " 'word': 343,\n",
              " 'relish': 344,\n",
              " 'first': 345,\n",
              " 'see': 346,\n",
              " 'havent': 347,\n",
              " 'your': 348,\n",
              " 'name': 349,\n",
              " 'bill': 350,\n",
              " 'seek': 351,\n",
              " 'treasure': 352,\n",
              " 'jewelled': 353,\n",
              " 'skies': 354,\n",
              " 'rivers': 355,\n",
              " 'glide': 356,\n",
              " 'she': 357,\n",
              " 'cant': 358,\n",
              " 'forgive': 359,\n",
              " 'authority': 360,\n",
              " 'bells': 361,\n",
              " 'ah': 362,\n",
              " 'take': 363,\n",
              " 'year': 364,\n",
              " 'doesnt': 365,\n",
              " 'tree': 366,\n",
              " 'beside': 367,\n",
              " 'wall': 368,\n",
              " 'stands': 369,\n",
              " 'bare': 370,\n",
              " 'oho': 371,\n",
              " 'till': 372,\n",
              " 'caught': 373,\n",
              " 'wind': 374,\n",
              " 'opening': 375,\n",
              " 'covers': 376,\n",
              " 'dangle': 377,\n",
              " 'feet': 378,\n",
              " 'raspberry': 379,\n",
              " 'vines': 380,\n",
              " 'alterest': 381,\n",
              " 'things': 382,\n",
              " 'thy': 383,\n",
              " 'peering': 384,\n",
              " 'eyes': 385,\n",
              " 'lie': 386,\n",
              " 'stones': 387,\n",
              " 'bushes': 388,\n",
              " 'unretrieved': 389,\n",
              " 'small': 390,\n",
              " 'fist': 391,\n",
              " 'buried': 392,\n",
              " 'bushy': 393,\n",
              " 'thine': 394,\n",
              " 'absence': 395,\n",
              " 'flashed': 396,\n",
              " 'licked': 397,\n",
              " 'upper': 398,\n",
              " 'teeth': 399,\n",
              " 'guess': 400,\n",
              " 'many': 401,\n",
              " 'must': 402,\n",
              " 'seen': 403,\n",
              " 'welcomed': 404,\n",
              " 'chance': 405,\n",
              " 'lave': 406,\n",
              " 'shoes': 407,\n",
              " 'so': 408,\n",
              " 'lying': 409,\n",
              " 'forward': 410,\n",
              " 'weakly': 411,\n",
              " 'handrail': 412,\n",
              " 'country': 413,\n",
              " 'village': 414,\n",
              " 'cultures': 415,\n",
              " 'faded': 416,\n",
              " 'leaves': 417,\n",
              " 'crisped': 418,\n",
              " 'could': 419,\n",
              " 'sell': 420,\n",
              " 'place': 421,\n",
              " 'headboard': 422,\n",
              " 'mothers': 423,\n",
              " 'bed': 424,\n",
              " 'pushed': 425,\n",
              " 'nor': 426,\n",
              " 'never': 427,\n",
              " 'heard': 428,\n",
              " 'throve': 429,\n",
              " 'conquered': 430,\n",
              " 'scruples': 431,\n",
              " 'gloom': 432,\n",
              " 'makes': 433,\n",
              " 'worse': 434,\n",
              " 'tempt': 435,\n",
              " 'waters': 436,\n",
              " 'their': 437,\n",
              " 'drear': 438,\n",
              " 'path': 439,\n",
              " 'alas': 440,\n",
              " 'grows': 441,\n",
              " 'am': 442,\n",
              " 'dead': 443,\n",
              " 'yet': 444,\n",
              " 'alive': 445,\n",
              " 'reared': 446,\n",
              " 'head': 447,\n",
              " 'fullorbed': 448,\n",
              " 'moon': 449,\n",
              " 'own': 450,\n",
              " 'soul': 451,\n",
              " 'soaring': 452,\n",
              " 'strangely': 453,\n",
              " 'anything': 454,\n",
              " 'wish': 455,\n",
              " 'give': 456,\n",
              " 'after': 457,\n",
              " 'manner': 458,\n",
              " 'stock': 459,\n",
              " 'myself': 460,\n",
              " 'about': 461,\n",
              " 'birch': 462,\n",
              " 'desperate': 463,\n",
              " 'energy': 464,\n",
              " 't': 465,\n",
              " 'hath': 466,\n",
              " 'beaten': 467,\n",
              " 'perhaps': 468,\n",
              " 'hear': 469,\n",
              " 'weather': 470,\n",
              " 'happen': 471,\n",
              " 'prefer': 472,\n",
              " 'headless': 473,\n",
              " 'aftermath': 474,\n",
              " 'ready': 475,\n",
              " 'outsiders': 476,\n",
              " 'theres': 477,\n",
              " 'childrens': 478,\n",
              " 'makebelieve': 479,\n",
              " 'lefts': 480,\n",
              " 'bigger': 481,\n",
              " 'harness': 482,\n",
              " 'gall': 483,\n",
              " 'earthly': 484,\n",
              " 'thought': 485,\n",
              " 'souls': 486,\n",
              " 'clad': 487,\n",
              " 'white': 488,\n",
              " 'violet': 489,\n",
              " 'bank': 490,\n",
              " 'sigmas': 491,\n",
              " 'taus': 492,\n",
              " 'knows': 493,\n",
              " 'hes': 494,\n",
              " 'kinder': 495,\n",
              " 'run': 496,\n",
              " 'men': 497,\n",
              " 'withering': 498,\n",
              " 'descent': 499,\n",
              " 'fate': 500,\n",
              " 'july': 501,\n",
              " 'midnight': 502,\n",
              " 'wait': 503,\n",
              " 'until': 504,\n",
              " 'ye': 505,\n",
              " 'deliverers': 506,\n",
              " 'athens': 507,\n",
              " 'shame': 508,\n",
              " 'please': 509,\n",
              " 'melancholy': 510,\n",
              " 'throats': 511,\n",
              " 'jupiter': 512,\n",
              " 'isnt': 513,\n",
              " 'going': 514,\n",
              " 'rain': 515,\n",
              " 'done': 516,\n",
              " 'help': 517,\n",
              " 'moving': 518,\n",
              " 'flock': 519,\n",
              " 'hens': 520,\n",
              " 'made': 521,\n",
              " 'gather': 522,\n",
              " 'wet': 523,\n",
              " 'snow': 524,\n",
              " 'berries': 525,\n",
              " 'lipbegotten': 526,\n",
              " 'words': 527,\n",
              " 'breaking': 528,\n",
              " 'isola': 529,\n",
              " 'doro': 530,\n",
              " 'fior': 531,\n",
              " 'di': 532,\n",
              " 'levante': 533,\n",
              " 'hate': 534,\n",
              " 'old': 535,\n",
              " 'gone': 536,\n",
              " 'sweet': 537,\n",
              " 'hopes': 538,\n",
              " 'thee': 539,\n",
              " 'founts': 540,\n",
              " 'bliss': 541,\n",
              " 'john': 542,\n",
              " 'thinks': 543,\n",
              " 'bright': 544,\n",
              " 'go': 545,\n",
              " 'times': 546,\n",
              " 'rule': 547,\n",
              " 'arm': 548,\n",
              " 'mounted': 549,\n",
              " 'walk': 550,\n",
              " 'conies': 551,\n",
              " 'sun': 552,\n",
              " 'romp': 553,\n",
              " 'indians': 554,\n",
              " 'myth': 555,\n",
              " 'chicamoztoc': 556,\n",
              " 'stood': 557,\n",
              " 'though': 558,\n",
              " 'slight': 559,\n",
              " 'demand': 560,\n",
              " 'felt': 561,\n",
              " 'tug': 562,\n",
              " 'why': 563,\n",
              " 'seats': 564,\n",
              " 'ever': 565,\n",
              " 'again': 566,\n",
              " 'tower': 567,\n",
              " 'clock': 568,\n",
              " 'riches': 569,\n",
              " 'passed': 570,\n",
              " 'end': 571,\n",
              " 'vista': 572,\n",
              " 'banners': 573,\n",
              " 'yellow': 574,\n",
              " 'glorious': 575,\n",
              " 'golden': 576,\n",
              " 'start': 577,\n",
              " 'which': 578,\n",
              " 'lately': 579,\n",
              " 'slept': 580,\n",
              " 'apathy': 581,\n",
              " 'went': 582,\n",
              " 'cottages': 583,\n",
              " 'dream': 584,\n",
              " 'beneath': 585,\n",
              " 'tamarind': 586,\n",
              " 'half': 587,\n",
              " 'closes': 588,\n",
              " 'garden': 589,\n",
              " 'science': 590,\n",
              " 'true': 591,\n",
              " 'daughter': 592,\n",
              " 'thou': 593,\n",
              " 'art': 594,\n",
              " 'greatness': 595,\n",
              " 'right': 596,\n",
              " 'stint': 597,\n",
              " 'tempted': 598,\n",
              " 'sculturd': 599,\n",
              " 'ivy': 600,\n",
              " 'stone': 601,\n",
              " 'lo': 602,\n",
              " 'stir': 603,\n",
              " 'air': 604,\n",
              " 'distinct': 605,\n",
              " 'duplicate': 606,\n",
              " 'horn': 607,\n",
              " 'houses': 608,\n",
              " 'thus': 609,\n",
              " 'pacified': 610,\n",
              " 'psyche': 611,\n",
              " 'kissed': 612,\n",
              " 'well': 613,\n",
              " 'brought': 614,\n",
              " 'god': 615,\n",
              " 'alone': 616,\n",
              " 'threshold': 617,\n",
              " 'wideopen': 618,\n",
              " 'gate': 619,\n",
              " 'dreams': 620,\n",
              " 'wampum': 621,\n",
              " 'mind': 622,\n",
              " 'complain': 623,\n",
              " 'italian': 624,\n",
              " 'tones': 625,\n",
              " 'murmured': 626,\n",
              " 'whose': 627,\n",
              " 'entablatures': 628,\n",
              " 'intertwine': 629,\n",
              " 'utmost': 630,\n",
              " 'star': 631,\n",
              " 'serve': 632,\n",
              " 'remind': 633,\n",
              " 'flickers': 634,\n",
              " 'sky': 635,\n",
              " 'dim': 636,\n",
              " 'memories': 637,\n",
              " 'treacherous': 638,\n",
              " 'rather': 639,\n",
              " 'tip': 640,\n",
              " 'table': 641,\n",
              " 'simple': 642,\n",
              " 'saw': 643,\n",
              " 'black': 644,\n",
              " 'can': 645,\n",
              " 'hold': 646,\n",
              " 'together': 647,\n",
              " 'legs': 648,\n",
              " 'ended': 649,\n",
              " 'johns': 650,\n",
              " 'threatener': 651,\n",
              " 'life': 652,\n",
              " 'wrote': 653,\n",
              " 'stroked': 654,\n",
              " 'hornyhanded': 655,\n",
              " 'kindness': 656,\n",
              " 'violin': 657,\n",
              " 'frogs': 658,\n",
              " 'peeping': 659,\n",
              " 'thousand': 660,\n",
              " 'shrill': 661,\n",
              " 'hadnt': 662,\n",
              " 'suspected': 663,\n",
              " 'every': 664,\n",
              " 'gentle': 665,\n",
              " 'dallied': 666,\n",
              " 'saved': 667,\n",
              " 'nothing': 668,\n",
              " 'shes': 669,\n",
              " 'cider': 670,\n",
              " 'thirsty': 671,\n",
              " 'idea': 672,\n",
              " 'deareye': 673,\n",
              " 'little': 674,\n",
              " 'horse': 675,\n",
              " 'queer': 676,\n",
              " 'very': 677,\n",
              " 'roses': 678,\n",
              " 'odors': 679,\n",
              " 'beyond': 680,\n",
              " 'sign': 681,\n",
              " 'spose': 682,\n",
              " 'mallice': 683,\n",
              " 'hail': 684,\n",
              " 'presence': 685,\n",
              " 'morning': 686,\n",
              " 'drag': 687,\n",
              " 'man': 688,\n",
              " 'told': 689,\n",
              " 'any': 690,\n",
              " 'twelvemonth': 691,\n",
              " 'cold': 692,\n",
              " 'spring': 693,\n",
              " 'source': 694,\n",
              " 'demon': 695,\n",
              " 'has': 696,\n",
              " 'rode': 697,\n",
              " 'over': 698,\n",
              " 'across': 699,\n",
              " 'sacred': 700,\n",
              " 'sill': 701,\n",
              " 'speaking': 702,\n",
              " 'singing': 703,\n",
              " 'bandmusic': 704,\n",
              " 'playing': 705,\n",
              " 'did': 706,\n",
              " 'both': 707,\n",
              " 'lost': 708,\n",
              " 'upturned': 709,\n",
              " 'faces': 710,\n",
              " 'leave': 711,\n",
              " 'olden': 712,\n",
              " 'yourself': 713,\n",
              " 'home': 714,\n",
              " 'field': 715,\n",
              " 'youth': 716,\n",
              " 'known': 717,\n",
              " 'earth': 718,\n",
              " 'helping': 719,\n",
              " 'cruel': 720,\n",
              " 'wire': 721,\n",
              " 'been': 722,\n",
              " 'acquainted': 723,\n",
              " 'before': 724,\n",
              " 'merely': 725,\n",
              " 'merry': 726,\n",
              " 'stars': 727,\n",
              " 'whence': 728,\n",
              " 'drawn': 729,\n",
              " 'forth': 730,\n",
              " 'kiting': 731,\n",
              " 'houri': 732,\n",
              " 'glances': 733,\n",
              " 'fever': 734,\n",
              " 'moonbeam': 735,\n",
              " 'hangs': 736,\n",
              " 'fanes': 737,\n",
              " 'babylonlike': 738,\n",
              " 'roof': 739,\n",
              " 'float': 740,\n",
              " 'flow': 741,\n",
              " 'better': 742,\n",
              " 'married': 743,\n",
              " 'ought': 744,\n",
              " 'card': 745,\n",
              " 'such': 746,\n",
              " 'everyone': 747,\n",
              " 'miles': 748,\n",
              " 'wrong': 749,\n",
              " 'liked': 750,\n",
              " 'attic': 751,\n",
              " 'trembled': 752,\n",
              " 'stirred': 753,\n",
              " 'reverence': 754,\n",
              " 'anyone': 755,\n",
              " 'smiled': 756,\n",
              " 'died': 757,\n",
              " 'parterre': 758,\n",
              " 'enchanted': 759,\n",
              " 'knew': 760,\n",
              " 'month': 761,\n",
              " 'october': 762,\n",
              " 'enough': 763,\n",
              " 'protection': 764,\n",
              " 'darkly': 765,\n",
              " 'past': 766,\n",
              " 'memory': 767,\n",
              " 'journey': 768,\n",
              " 'vision': 769,\n",
              " 'put': 770,\n",
              " 'cheering': 771,\n",
              " 'youre': 772,\n",
              " 'wherever': 773,\n",
              " 'low': 774,\n",
              " 'poetry': 775,\n",
              " 'lifts': 776,\n",
              " 'gaunt': 777,\n",
              " 'luxuriating': 778,\n",
              " 'beast': 779,\n",
              " 'o': 780,\n",
              " 'hyacinthine': 781,\n",
              " 'isle': 782,\n",
              " 'purple': 783,\n",
              " 'zante': 784,\n",
              " 'mean': 785,\n",
              " 'harm': 786,\n",
              " 'herself': 787,\n",
              " 'himself': 788,\n",
              " 'looked': 789,\n",
              " 'slippery': 790,\n",
              " 'slope': 791,\n",
              " 'tamed': 792,\n",
              " 'primeval': 793,\n",
              " 'wood': 794,\n",
              " 'estelle': 795,\n",
              " 'wed': 796,\n",
              " 'claim': 797,\n",
              " 'west': 798,\n",
              " 'desert': 799,\n",
              " 'hourly': 800,\n",
              " 'above': 801,\n",
              " 'counting': 802,\n",
              " 'winter': 803,\n",
              " 'dinners': 804,\n",
              " 'hill': 805,\n",
              " 'thered': 806,\n",
              " 'boston': 807,\n",
              " 'people': 808,\n",
              " 'worship': 809,\n",
              " 'springs': 810,\n",
              " 'neer': 811,\n",
              " 'stand': 812,\n",
              " 'ridiculous': 813,\n",
              " 'might': 814,\n",
              " 'showed': 815,\n",
              " 'arthur': 816,\n",
              " 'amy': 817,\n",
              " 'signs': 818,\n",
              " 'scurf': 819,\n",
              " 'plants': 820,\n",
              " 'weary': 821,\n",
              " 'overheated': 822,\n",
              " 'greenest': 823,\n",
              " 'valleys': 824,\n",
              " 'spoiled': 825,\n",
              " 'began': 826,\n",
              " 'uncertain': 827,\n",
              " 'pale': 828,\n",
              " 'lofty': 829,\n",
              " 'original': 830,\n",
              " 'rage': 831,\n",
              " 'seems': 832,\n",
              " 'housework': 833,\n",
              " 'besides': 834,\n",
              " 'streams': 835,\n",
              " 'turrets': 836,\n",
              " 'silently': 837,\n",
              " 'mistrusted': 838,\n",
              " 'none': 839,\n",
              " 'proud': 840,\n",
              " 'admiring': 841,\n",
              " 'natures': 842,\n",
              " 'universal': 843,\n",
              " 'throne': 844,\n",
              " 'travellers': 845,\n",
              " 'within': 846,\n",
              " 'valley': 847,\n",
              " 'hour': 848,\n",
              " 'does': 849,\n",
              " 'cool': 850,\n",
              " 'folks': 851,\n",
              " 'familiar': 852,\n",
              " 'spirits': 853,\n",
              " 'tell': 854,\n",
              " 'for—montreal': 855,\n",
              " 'being': 856,\n",
              " 'bareback': 857,\n",
              " 'sancta': 858,\n",
              " 'maria': 859,\n",
              " 'turn': 860,\n",
              " 'kept': 861,\n",
              " 'remembering': 862,\n",
              " 'wasnt': 863,\n",
              " 'youll': 864,\n",
              " 'guide': 865,\n",
              " 'direct': 866,\n",
              " 'few': 867,\n",
              " 'peckerfretted': 868,\n",
              " 'apple': 869,\n",
              " 'trees': 870,\n",
              " 'hed': 871,\n",
              " 'because': 872,\n",
              " 'likes': 873,\n",
              " 'sit': 874,\n",
              " 'open': 875,\n",
              " 'verdant': 876,\n",
              " 'slopes': 877,\n",
              " 'libation': 878,\n",
              " 'tyrannys': 879,\n",
              " 'blood': 880,\n",
              " 'thats': 881,\n",
              " 'dark': 882,\n",
              " 'sense': 883,\n",
              " 'double': 884,\n",
              " 'theirs': 885,\n",
              " 'watch': 886,\n",
              " 'senescent': 887,\n",
              " 'hurt': 888,\n",
              " 'poem': 889,\n",
              " 'heavy': 890,\n",
              " 'iron': 891,\n",
              " 'buds': 892,\n",
              " 'leaf': 893,\n",
              " 'bloom': 894,\n",
              " 'toffile': 895,\n",
              " 'power': 896,\n",
              " 'undone': 897,\n",
              " 'crystalline': 898,\n",
              " 'celestial': 899,\n",
              " 'spheres': 900,\n",
              " 'stay': 901,\n",
              " 'cried': 902,\n",
              " 'surely': 903,\n",
              " 'ear': 904,\n",
              " 'pianos': 905,\n",
              " 'vigor': 906,\n",
              " 'mistake': 907,\n",
              " 'dear': 908,\n",
              " 'interest': 909,\n",
              " 'height': 910,\n",
              " 'adventure': 911,\n",
              " 'lethean': 912,\n",
              " 'peace': 913,\n",
              " 'gailyjewelld': 914,\n",
              " 'voted': 915,\n",
              " 'chains': 916,\n",
              " 'pearl': 917,\n",
              " 'hermon': 918,\n",
              " 'drinking': 919,\n",
              " 'goblet': 920,\n",
              " 'grail': 921,\n",
              " 'wonder': 922,\n",
              " 'oracle': 923,\n",
              " 'tending': 924,\n",
              " 'overflowing': 925,\n",
              " 'plenty': 926,\n",
              " 'coming': 927,\n",
              " 'choice': 928,\n",
              " 'crooking': 929,\n",
              " 'trillium': 930,\n",
              " 'sulphurous': 931,\n",
              " 'currents': 932,\n",
              " 'yaanek': 933,\n",
              " 'bid': 934,\n",
              " 'thinking': 935,\n",
              " 'provision': 936,\n",
              " 'world': 937,\n",
              " 'ways': 938,\n",
              " 'interlock': 939,\n",
              " 'wont': 940,\n",
              " 'accept': 941,\n",
              " 'substitute': 942,\n",
              " 'empty': 943,\n",
              " 'bird': 944,\n",
              " 'alight': 945,\n",
              " 'deliverance': 946,\n",
              " 'revels': 947,\n",
              " 'region': 948,\n",
              " 'sighs': 949,\n",
              " 'misty': 950,\n",
              " 'mid': 951,\n",
              " 'fought': 952,\n",
              " 'battle': 953,\n",
              " 'book': 954,\n",
              " 'pocket': 955,\n",
              " 'sos': 956,\n",
              " 'comfort': 957,\n",
              " 'sew': 958,\n",
              " 'round': 959,\n",
              " 'sitting': 960,\n",
              " 'same': 961,\n",
              " 'worn': 962,\n",
              " 'really': 963,\n",
              " 'fathomless': 964,\n",
              " 'capacity': 965,\n",
              " 'love': 966,\n",
              " 'expanding': 967,\n",
              " 'speculation': 968,\n",
              " 'wander': 969,\n",
              " 'talk': 970,\n",
              " 'cannot': 971,\n",
              " 'aright': 972,\n",
              " 'meddle': 973,\n",
              " 'dimremembered': 974,\n",
              " 'story': 975,\n",
              " 'claiming': 976,\n",
              " 'priority': 977,\n",
              " 'starkness': 978,\n",
              " 'evil': 979,\n",
              " 'robes': 980,\n",
              " 'sorrow': 981,\n",
              " 'unimpassioned': 982,\n",
              " 'donkeys': 983,\n",
              " 'ears': 984,\n",
              " 'suggest': 985,\n",
              " 'shake': 986,\n",
              " 'pretty': 987,\n",
              " 'outdoors': 988,\n",
              " 'whod': 989,\n",
              " 'marry': 990,\n",
              " 'straight': 991,\n",
              " 'mess': 992,\n",
              " 'woods': 993,\n",
              " 'excitement': 994,\n",
              " 'flying': 995,\n",
              " 'silent': 996,\n",
              " 'deserted': 997,\n",
              " 'gaining': 998,\n",
              " 'wealth': 999,\n",
              " ...}"
            ]
          },
          "metadata": {},
          "execution_count": 74
        }
      ]
    },
    {
      "cell_type": "code",
      "source": [
        "len(word2idx)"
      ],
      "metadata": {
        "id": "4wp8Kc9qcGQ7",
        "colab": {
          "base_uri": "https://localhost:8080/"
        },
        "outputId": "d8644bc0-0b04-496c-e949-4f9bca311b6c"
      },
      "execution_count": 75,
      "outputs": [
        {
          "output_type": "execute_result",
          "data": {
            "text/plain": [
              "2526"
            ]
          },
          "metadata": {},
          "execution_count": 75
        }
      ]
    },
    {
      "cell_type": "code",
      "source": [
        "# converting text to numbers\n",
        "\n",
        "train_text_int=[]\n",
        "test_text_int=[]\n",
        "\n",
        "for text in train_text:\n",
        "  tokens=text.split()\n",
        "  line_as_int=[word2idx[token] for token in tokens]\n",
        "  train_text_int.append(line_as_int)\n",
        "\n",
        "for text in test_text:\n",
        "  tokens=text.split()\n",
        "  line_as_int=[word2idx.get(token,0) for token in tokens]\n",
        "  test_text_int.append(line_as_int)"
      ],
      "metadata": {
        "id": "0l7EAXYBcI0q"
      },
      "execution_count": 76,
      "outputs": []
    },
    {
      "cell_type": "code",
      "source": [
        "train_text_int[100:105]"
      ],
      "metadata": {
        "id": "S1mVtJRWdqQC",
        "colab": {
          "base_uri": "https://localhost:8080/"
        },
        "outputId": "dfdd19e8-bfe9-4d6c-b789-4a7cee0fe0ac"
      },
      "execution_count": 77,
      "outputs": [
        {
          "output_type": "execute_result",
          "data": {
            "text/plain": [
              "[[15, 381, 14, 382, 90, 383, 384, 385],\n",
              " [23, 386, 11, 387, 23, 388, 389],\n",
              " [292, 390, 391, 392, 11, 3, 393, 142],\n",
              " [41, 14, 8, 337, 394, 395, 29, 3, 287],\n",
              " [396, 269, 23, 397, 198, 292, 398, 399]]"
            ]
          },
          "metadata": {},
          "execution_count": 77
        }
      ]
    },
    {
      "cell_type": "code",
      "source": [
        "# now we have to generate the A and Pie matixes for the prediction\n",
        "# for add ones smoothing\n",
        "V=len(word2idx)\n",
        "\n",
        "A0=np.ones((V,V))\n",
        "pi0=np.ones(V)\n",
        "\n",
        "A1=np.ones((V,V))\n",
        "pi1=np.ones(V)"
      ],
      "metadata": {
        "id": "ztaeQjNSdyJS"
      },
      "execution_count": 78,
      "outputs": []
    },
    {
      "cell_type": "code",
      "source": [
        "# compute the counts for the A and pi\n",
        "\n",
        "def compute_counts(text_as_int,A,pi):\n",
        "  for tokens in text_as_int:\n",
        "\n",
        "    # for finding whether a word is in first place or not\n",
        "    last_idx=None\n",
        "\n",
        "    for idx in tokens:\n",
        "\n",
        "      # if the word is in the first position we will populate the pi \n",
        "      if last_idx is None:\n",
        "        pi[idx]+=1\n",
        "      else:\n",
        "\n",
        "        # or else we will populate A matrix\n",
        "        A[last_idx,idx]+=1\n",
        "\n",
        "      #updating the last_idx\n",
        "      last_idx=idx\n"
      ],
      "metadata": {
        "id": "SmvgbpCAfSFL"
      },
      "execution_count": 79,
      "outputs": []
    },
    {
      "cell_type": "code",
      "source": [
        "compute_counts([t for t,y in zip(train_text_int,Ytrain) if y==0],A0,pi0)\n",
        "compute_counts([t for t,y in zip(train_text_int,Ytrain) if y==1],A1,pi1)"
      ],
      "metadata": {
        "id": "63-1tdgKiU7Z"
      },
      "execution_count": 80,
      "outputs": []
    },
    {
      "cell_type": "code",
      "source": [
        "# converting count into the probabilities\n",
        "\n",
        "A0/=A0.sum(axis=1,keepdims=True)\n",
        "pi0/=pi0.sum()\n",
        "\n",
        "A1/=A1.sum(axis=1,keepdims=True)\n",
        "pi1/=pi1.sum()\n"
      ],
      "metadata": {
        "id": "IjR1TRXe3TbZ"
      },
      "execution_count": 81,
      "outputs": []
    },
    {
      "cell_type": "code",
      "source": [
        "# converting them to logarithamic values\n",
        "\n",
        "logA0=np.log(A0)\n",
        "logpi0=np.log(pi0)\n",
        "\n",
        "logA1=np.log(A1)\n",
        "logpi1=np.log(pi1)"
      ],
      "metadata": {
        "id": "vj_-PZi05Y1J"
      },
      "execution_count": 82,
      "outputs": []
    },
    {
      "cell_type": "code",
      "source": [
        "#  computing the probability that a given word is of label 0 or 1\n",
        "\n",
        "count0=sum(y==0 for y in Ytrain)\n",
        "count1=sum(y==1 for y in Ytrain)\n",
        "total=len(Ytrain)\n",
        "p0=count0/total\n",
        "p1=count1/total\n",
        "\n",
        "logp0=np.log(p0)\n",
        "logp1=np.log(p1)\n",
        "\n",
        "p0,p1"
      ],
      "metadata": {
        "colab": {
          "base_uri": "https://localhost:8080/"
        },
        "id": "id_RF8555xU6",
        "outputId": "8d38d1ca-958c-4865-e19b-9d2c875ca5a2"
      },
      "execution_count": 83,
      "outputs": [
        {
          "output_type": "execute_result",
          "data": {
            "text/plain": [
              "(0.3331269349845201, 0.6668730650154798)"
            ]
          },
          "metadata": {},
          "execution_count": 83
        }
      ]
    },
    {
      "cell_type": "code",
      "source": [
        "# Building classifier\n",
        "\n",
        "class Classifier:\n",
        "  def __init__(self,logAs,logPis,logPriors):\n",
        "    self.logAs=logAs\n",
        "    self.logPis=logPis\n",
        "    self.logPriors=logPriors\n",
        "    # for the number of classes\n",
        "    self.K=len(logPriors)\n",
        "\n",
        "  def _compute_log_likelihood(self,input_,class_):\n",
        "     logA=self.logAs[class_]\n",
        "     logPi=self.logPis[class_]\n",
        "\n",
        "     last_idx=None\n",
        "     logProb=0\n",
        "\n",
        "     for idx in input_:\n",
        "\n",
        "       if last_idx is None:\n",
        "         logProb+=logPi[idx]\n",
        "\n",
        "       else:\n",
        "         logProb+=logA[last_idx,idx]\n",
        "\n",
        "  # Giving the last idx the present one\n",
        "       last_idx=idx\n",
        "\n",
        "     return logProb\n",
        "\n",
        "  def predict(self,inputs):\n",
        "    predictions=np.zeros(len(inputs))\n",
        "    for i,input_ in enumerate(inputs):\n",
        "      posteriors=[self._compute_log_likelihood(input_,c)+self.logPriors[c]\\\n",
        "                 for c in range(self.K) ]\n",
        "      pred=np.argmax(posteriors)\n",
        "      predictions[i]=pred\n",
        "    return predictions"
      ],
      "metadata": {
        "id": "UDkLzb4WNnNv"
      },
      "execution_count": 84,
      "outputs": []
    },
    {
      "cell_type": "code",
      "source": [
        "# initiating a classifier\n",
        "\n",
        "clf=Classifier([logA0,logA1],[logpi0,logpi1],[logp0,logp1])"
      ],
      "metadata": {
        "id": "LoqVPFXbTAdh"
      },
      "execution_count": 85,
      "outputs": []
    },
    {
      "cell_type": "code",
      "source": [
        "Ptrain=clf.predict(train_text_int)\n",
        "print(f\"Train acc:{np.mean(Ptrain==Ytrain)}\")"
      ],
      "metadata": {
        "colab": {
          "base_uri": "https://localhost:8080/"
        },
        "id": "YpMsxJDPUMQj",
        "outputId": "5e9f9881-fbbc-4aa2-b15f-8b6ae2584d42"
      },
      "execution_count": 86,
      "outputs": [
        {
          "output_type": "stream",
          "name": "stdout",
          "text": [
            "Train acc:0.9969040247678018\n"
          ]
        }
      ]
    },
    {
      "cell_type": "code",
      "source": [
        "Ptest=clf.predict(test_text_int)\n",
        "print(f\"Test acc:{np.mean(Ptest==Ytest)}\")"
      ],
      "metadata": {
        "colab": {
          "base_uri": "https://localhost:8080/"
        },
        "id": "WTHybzsXWRob",
        "outputId": "a18bea61-e291-44f0-d509-b5a22ecc3336"
      },
      "execution_count": 87,
      "outputs": [
        {
          "output_type": "stream",
          "name": "stdout",
          "text": [
            "Test acc:0.8330241187384044\n"
          ]
        }
      ]
    },
    {
      "cell_type": "code",
      "source": [
        "# KNOWING THE CONFUSION MATRIX AND THE F_SCORE\n",
        "\n",
        "from sklearn.metrics import confusion_matrix,f1_score"
      ],
      "metadata": {
        "id": "wN-Ud1SwX0FY"
      },
      "execution_count": 88,
      "outputs": []
    },
    {
      "cell_type": "code",
      "source": [
        "cm=confusion_matrix(Ytrain,Ptrain)\n",
        "cm"
      ],
      "metadata": {
        "colab": {
          "base_uri": "https://localhost:8080/"
        },
        "id": "jaBKfYM8YEjv",
        "outputId": "f9202a90-35da-44ad-9339-ece59e779425"
      },
      "execution_count": 89,
      "outputs": [
        {
          "output_type": "execute_result",
          "data": {
            "text/plain": [
              "array([[ 533,    5],\n",
              "       [   0, 1077]])"
            ]
          },
          "metadata": {},
          "execution_count": 89
        }
      ]
    },
    {
      "cell_type": "code",
      "source": [
        "cm=confusion_matrix(Ytest,Ptest)\n",
        "cm"
      ],
      "metadata": {
        "colab": {
          "base_uri": "https://localhost:8080/"
        },
        "id": "GV5Y6A6iYNap",
        "outputId": "033ae4d2-774d-4f74-d884-4d8e71e9fc4d"
      },
      "execution_count": 91,
      "outputs": [
        {
          "output_type": "execute_result",
          "data": {
            "text/plain": [
              "array([[101,  79],\n",
              "       [ 11, 348]])"
            ]
          },
          "metadata": {},
          "execution_count": 91
        }
      ]
    },
    {
      "cell_type": "code",
      "source": [
        "f1_score(Ytrain,Ptrain)"
      ],
      "metadata": {
        "colab": {
          "base_uri": "https://localhost:8080/"
        },
        "id": "uVDUNflnYSfG",
        "outputId": "287c89a4-4f6f-453a-fed3-a5e0b2e6eca3"
      },
      "execution_count": 92,
      "outputs": [
        {
          "output_type": "execute_result",
          "data": {
            "text/plain": [
              "0.9976841130152849"
            ]
          },
          "metadata": {},
          "execution_count": 92
        }
      ]
    },
    {
      "cell_type": "code",
      "source": [
        "f1_score(Ytest,Ptest)"
      ],
      "metadata": {
        "colab": {
          "base_uri": "https://localhost:8080/"
        },
        "id": "jM843KZBYXsU",
        "outputId": "74489f00-c7b5-43b0-97db-be6ff68c2b71"
      },
      "execution_count": 93,
      "outputs": [
        {
          "output_type": "execute_result",
          "data": {
            "text/plain": [
              "0.8854961832061069"
            ]
          },
          "metadata": {},
          "execution_count": 93
        }
      ]
    }
  ]
}