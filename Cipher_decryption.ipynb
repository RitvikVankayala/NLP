{
  "nbformat": 4,
  "nbformat_minor": 0,
  "metadata": {
    "colab": {
      "provenance": [],
      "authorship_tag": "ABX9TyNiq/cr/kl3pDV/6tysMXsh",
      "include_colab_link": true
    },
    "kernelspec": {
      "name": "python3",
      "display_name": "Python 3"
    },
    "language_info": {
      "name": "python"
    }
  },
  "cells": [
    {
      "cell_type": "markdown",
      "metadata": {
        "id": "view-in-github",
        "colab_type": "text"
      },
      "source": [
        "<a href=\"https://colab.research.google.com/github/RitvikVankayala/NLP/blob/main/Cipher_decryption.ipynb\" target=\"_parent\"><img src=\"https://colab.research.google.com/assets/colab-badge.svg\" alt=\"Open In Colab\"/></a>"
      ]
    },
    {
      "cell_type": "markdown",
      "source": [
        "Substitution cipher is been implemented here"
      ],
      "metadata": {
        "id": "odbuvM-eycdy"
      }
    },
    {
      "cell_type": "code",
      "execution_count": 16,
      "metadata": {
        "id": "5wHF72RQyPms"
      },
      "outputs": [],
      "source": [
        "import numpy as np\n",
        "import matplotlib.pyplot as plt"
      ]
    },
    {
      "cell_type": "code",
      "source": [
        "# for loading the ascii charecters\n",
        "import string\n",
        "# for randomly suffiling the ascii chars and produce a substitution cipher \n",
        "import random\n",
        "# for some string operations\n",
        "import re\n",
        "# for some other tasks\n",
        "import os\n",
        "import requests\n",
        "import textwrap"
      ],
      "metadata": {
        "id": "PzHuH4n3y0XG"
      },
      "execution_count": 17,
      "outputs": []
    },
    {
      "cell_type": "code",
      "source": [
        "# creating a random substitution cipher\n",
        "\n",
        "letters1=list(string.ascii_lowercase)\n",
        "letters2=list(string.ascii_lowercase)\n",
        "\n",
        "true_mapping={}\n",
        "\n",
        "random.shuffle(letters2)\n",
        "\n",
        "for k,v in zip(letters1,letters2):\n",
        "  true_mapping[k]=v"
      ],
      "metadata": {
        "id": "bELbwzR4zvML"
      },
      "execution_count": 18,
      "outputs": []
    },
    {
      "cell_type": "code",
      "source": [
        "print(letters1)\n",
        "print(letters2)"
      ],
      "metadata": {
        "id": "tvI8whRz0P6b",
        "colab": {
          "base_uri": "https://localhost:8080/"
        },
        "outputId": "b725a8a7-7b8d-4a9e-e429-d3ecd0d32610"
      },
      "execution_count": 19,
      "outputs": [
        {
          "output_type": "stream",
          "name": "stdout",
          "text": [
            "['a', 'b', 'c', 'd', 'e', 'f', 'g', 'h', 'i', 'j', 'k', 'l', 'm', 'n', 'o', 'p', 'q', 'r', 's', 't', 'u', 'v', 'w', 'x', 'y', 'z']\n",
            "['i', 'e', 'j', 'l', 'z', 'r', 'c', 'g', 'h', 'p', 'w', 'y', 'v', 't', 'u', 'd', 's', 'q', 'f', 'n', 'o', 'b', 'm', 'k', 'x', 'a']\n"
          ]
        }
      ]
    },
    {
      "cell_type": "code",
      "source": [
        "# generating a language model that can decrypt the given code\n",
        "\n",
        "# state transition matrix\n",
        "\n",
        "M=np.ones((26,26))\n",
        "pi=np.zeros(26)\n",
        "\n",
        "# function for updating the markov matrix\n",
        "def update_transition(ch1,ch2):\n",
        "\n",
        "  i=ord(ch1)-97\n",
        "  j=ord(ch2)-97\n",
        "  M[i,j]+=1\n",
        "\n",
        "# function for updating the pi\n",
        "def update_pi(ch1):\n",
        "  i=ord(ch1)-97\n",
        "  pi[i]+=1\n",
        "\n",
        "# function for converting normal prob into the log probs\n",
        "\n",
        "def get_word_prob(word):\n",
        "  i=ord(word[0])-97\n",
        "  logp=np.log(pi[i])\n",
        "\n",
        "  for ch in word[1:]:\n",
        "    j=ord(ch)-97\n",
        "    logp+=np.log(M[i,j])\n",
        "    i=j\n",
        "\n",
        "  return logp \n",
        "\n",
        "# function for getting prob of seq of words\n",
        "\n",
        "def get_sequence_prob(words):\n",
        "\n",
        "  if type(words)==str:\n",
        "    words=words.split()\n",
        "  \n",
        "  logp=0\n",
        "  for word in words:\n",
        "    logp+=get_word_prob(word)\n",
        "  return logp"
      ],
      "metadata": {
        "id": "cW6vSLWR0UBM"
      },
      "execution_count": 20,
      "outputs": []
    },
    {
      "cell_type": "code",
      "source": [
        "# creating a markov model based on the english dataset\n",
        "\n",
        "if not os.path.exists('moby_dick.txt'):\n",
        "  print('downloading moby dick...')\n",
        "  r=requests.get('https://lazyprogrammer.me/course_files/moby_dick.txt')\n",
        "  with open('moby_dick.txt','w') as f:\n",
        "    f.write(r.content.decode())"
      ],
      "metadata": {
        "id": "LX-fC3AtAFHG"
      },
      "execution_count": 21,
      "outputs": []
    },
    {
      "cell_type": "code",
      "source": [
        "# for replacing a non alphabet charecters\n",
        "\n",
        "regex=re.compile('[^a-zA-Z]')\n",
        "\n",
        "# load in words\n",
        "for line in open('moby_dick.txt'):\n",
        "  line=line.rstrip() \n",
        "\n",
        "# if blank lines in the file\n",
        "  if line:\n",
        "    line=regex.sub(' ',line)\n",
        "# spliting the tokens in the line and lowercase\n",
        "    tokens=line.lower().split()\n",
        "\n",
        "    for token in tokens:\n",
        "      # updating the model\n",
        "      ch0=token[0]\n",
        "      update_pi(ch0)\n",
        "\n",
        "      for ch1 in token[1:]:\n",
        "        update_transition(ch0,ch1)\n",
        "        ch0=ch1\n",
        "\n",
        "# Normalizing the probs\n",
        "pi/=pi.sum()\n",
        "M/=M.sum(axis=1,keepdims=True)\n"
      ],
      "metadata": {
        "id": "M57VvLobA3s7"
      },
      "execution_count": 22,
      "outputs": []
    },
    {
      "cell_type": "code",
      "source": [
        "# Example \n",
        "original_message='''I then lounged down the street and found, as I expected, that there was a mews in a lane which runs down by one wall of the garden. I lent the ostlers a hand in rubbing down their horses, and received in exchange twopence, a glass of half-and-half, two fills of shag tobacco, and as much information as I could desire about Miss Adler, to say nothing of half a dozen other people in the neighbourhood in whom I was not in the least interested, but whose biographies I was compelled to listen to.'''\n"
      ],
      "metadata": {
        "id": "KNpmGJ2NC1Uf"
      },
      "execution_count": 24,
      "outputs": []
    },
    {
      "cell_type": "code",
      "source": [
        "def encode_msg(msg):\n",
        "\n",
        "  msg=msg.lower()\n",
        "\n",
        "  # for removing all non alphabets and replacing with empty space\n",
        "  msg=regex.sub(' ',msg)\n",
        "  coded_msg=[]\n",
        "\n",
        "  for char in msg:\n",
        "    coded_char=char\n",
        "    if char in true_mapping:\n",
        "      coded_char=true_mapping[char]\n",
        "    coded_msg.append(coded_char)\n",
        "  \n",
        "  return ''.join(coded_msg)"
      ],
      "metadata": {
        "id": "u-B9NVVSBJsE"
      },
      "execution_count": 26,
      "outputs": []
    },
    {
      "cell_type": "code",
      "source": [
        "encoded_message=encode_msg(original_message)\n",
        "print(encoded_message)"
      ],
      "metadata": {
        "colab": {
          "base_uri": "https://localhost:8080/"
        },
        "id": "1d17GunDC-j7",
        "outputId": "713e6424-a09f-4416-8549-3a6b87ef940d"
      },
      "execution_count": 28,
      "outputs": [
        {
          "output_type": "stream",
          "name": "stdout",
          "text": [
            "h ngzt yuotczl lumt ngz fnqzzn itl ruotl  if h zkdzjnzl  ngin ngzqz mif i vzmf ht i yitz mghjg qotf lumt ex utz miyy ur ngz ciqlzt  h yztn ngz ufnyzqf i gitl ht qoeehtc lumt ngzhq guqfzf  itl qzjzhbzl ht zkjgitcz nmudztjz  i cyiff ur giyr itl giyr  nmu rhyyf ur fgic nueijju  itl if vojg htruqvinhut if h juoyl lzfhqz ieuon vhff ilyzq  nu fix tunghtc ur giyr i luazt ungzq dzudyz ht ngz tzhcgeuoqguul ht mguv h mif tun ht ngz yzifn htnzqzfnzl  eon mgufz ehucqidghzf h mif juvdzyyzl nu yhfnzt nu \n"
          ]
        }
      ]
    },
    {
      "cell_type": "code",
      "source": [
        "def decode_msg(msg,word_map):\n",
        "  # word_map is the inverse mapping of the cipher_map\n",
        "  decoded_msg=[]\n",
        "\n",
        "  for char in msg:\n",
        "    decoded_char=char\n",
        "\n",
        "    if char in word_map:\n",
        "      decoded_char=word_map[char]\n",
        "\n",
        "    decoded_msg.append(decoded_char)\n",
        "  return ''.join(decoded_msg)"
      ],
      "metadata": {
        "id": "KnElSA60DbZ-"
      },
      "execution_count": 29,
      "outputs": []
    },
    {
      "cell_type": "code",
      "source": [
        "# run an evolutionary algorithm\n",
        "dna_pool=[]\n",
        "\n",
        "for _ in range(20):\n",
        "  dna=list(string.ascii_lowercase)\n",
        "  random.shuffle(dna)\n",
        "  dna_pool.append(dna)"
      ],
      "metadata": {
        "id": "bklA3edrEQQD"
      },
      "execution_count": 12,
      "outputs": []
    },
    {
      "cell_type": "code",
      "source": [
        "def evolve_offspring(dna_pool,n_children):\n",
        "  offspring=[]\n",
        "\n",
        "  for dna in dna_pool:\n",
        "    for _ in range(n_children):\n",
        "      copy=dna.copy()\n",
        "      j=np.random.randint(len(copy))\n",
        "      k=np.random.randint(len(copy))\n",
        "\n",
        "      #swapping the j and k indexes\n",
        "\n",
        "      temp=copy[j]\n",
        "      copy[j]=copy[k]\n",
        "      copy[k]=temp\n",
        "      offspring.append(copy)\n",
        "\n",
        "  return offspring + dna_pool"
      ],
      "metadata": {
        "id": "Q4UO1isAH8FL"
      },
      "execution_count": 13,
      "outputs": []
    },
    {
      "cell_type": "code",
      "source": [
        "# creating a generation algo\n",
        "\n",
        "num_iters=1000\n",
        "scores=np.zeros(num_iters)\n",
        "best_dna=None\n",
        "best_map=None\n",
        "best_score=float('-inf')\n",
        "\n",
        "for i in range(num_iters):\n",
        "  if i>0:\n",
        "    # get offspring from current pool\n",
        "    dna_pool=evolve_offspring(dna_pool,3)\n",
        "\n",
        "  dna2score={}\n",
        "  for dna in dna_pool:\n",
        "    #populate map\n",
        "    current_map={}\n",
        "    for k,v in zip(letters1,dna):\n",
        "      current_map[k]=v\n",
        "\n",
        "    decoded_message=decode_msg(encoded_message,current_map)\n",
        "    score=get_sequence_prob(decoded_message)\n",
        "\n",
        "    # list are not accepted as the dic keys hence we have to convert the list of char into string\\\n",
        "    dna2score[''.join(dna)]=score\n",
        "\n",
        "    if score>best_score:\n",
        "      best_score=score\n",
        "      best_dna=dna\n",
        "      best_map=current_map\n",
        "\n",
        "    # for findig the average score of the generation\n",
        "  scores[i]=np.mean(list(dna2score.values()))\n",
        "\n",
        "    #sort the scores in the reverse order for getting survival of the fittest\n",
        "\n",
        "  sorted_dna=sorted(dna2score.items(),key=lambda x:x[1],reverse=True)\n",
        "  dna_pool=[list(k) for k,v in sorted_dna[:5]]\n",
        "\n",
        "  if i%200==0:\n",
        "     print(\"iter :\",i,\"score :\",scores[i],\"best so far :\",best_score)"
      ],
      "metadata": {
        "colab": {
          "base_uri": "https://localhost:8080/"
        },
        "id": "AfA-dcCYKRRU",
        "outputId": "a167fc59-674b-46de-e664-bb697d4b0fc3"
      },
      "execution_count": 30,
      "outputs": [
        {
          "output_type": "stream",
          "name": "stdout",
          "text": [
            "iter : 0 score : -2039.233393949014 best so far : -1965.4905718728173\n",
            "iter : 200 score : -1038.161743788287 best so far : -943.603297113694\n",
            "iter : 400 score : -1025.9448713401441 best so far : -941.5300142320273\n",
            "iter : 600 score : -1021.1957043739684 best so far : -941.5300142320273\n",
            "iter : 800 score : -1041.3425875576681 best so far : -941.5300142320273\n"
          ]
        }
      ]
    },
    {
      "cell_type": "code",
      "source": [
        "# decoding the msg with the best map\n",
        "\n",
        "decoded_message=decode_msg(encoded_message,best_map)\n",
        "\n",
        "print(\"LL of decoded message\",get_sequence_prob(decoded_message))\n",
        "print(\"LL of true message:\",get_sequence_prob(regex.sub(' ',original_message.lower())))\n",
        "\n",
        "for true,v in true_mapping.items():\n",
        "  pred=best_map[v]\n",
        "\n",
        "  if true!=pred:\n",
        "    print(\"true : %s , pred : %s\"% (true,pred))"
      ],
      "metadata": {
        "colab": {
          "base_uri": "https://localhost:8080/"
        },
        "id": "RtgYOWo61JLZ",
        "outputId": "17292d34-ee42-401d-ee7b-7a8464ddc2f0"
      },
      "execution_count": 31,
      "outputs": [
        {
          "output_type": "stream",
          "name": "stdout",
          "text": [
            "LL of decoded message -941.5300142320273\n",
            "LL of true message: -933.0312453751817\n",
            "true : b , pred : f\n",
            "true : f , pred : y\n",
            "true : j , pred : z\n",
            "true : k , pred : q\n",
            "true : q , pred : j\n",
            "true : y , pred : b\n",
            "true : z , pred : k\n"
          ]
        }
      ]
    },
    {
      "cell_type": "code",
      "source": [
        "print(\"Decoded message : \\n\",textwrap.fill(decoded_message))\n",
        "print(\"\\n True message:\\n\",original_message)"
      ],
      "metadata": {
        "colab": {
          "base_uri": "https://localhost:8080/"
        },
        "id": "67qHQVYO2ZJa",
        "outputId": "da0ad9f6-2ed5-4b77-8bf7-cb55fc66db2c"
      },
      "execution_count": 32,
      "outputs": [
        {
          "output_type": "stream",
          "name": "stdout",
          "text": [
            "Decoded message : \n",
            " i then lounged down the street and yound  as i expected  that there\n",
            "was a mews in a lane which runs down fb one wall oy the garden  i lent\n",
            "the ostlers a hand in ruffing down their horses  and received in\n",
            "exchange twopence  a glass oy haly and haly  two yills oy shag tofacco\n",
            "and as much inyormation as i could desire afout miss adler  to sab\n",
            "nothing oy haly a doken other people in the neighfourhood in whom i\n",
            "was not in the least interested  fut whose fiographies i was compelled\n",
            "to listen to\n",
            "\n",
            " True message:\n",
            " I then lounged down the street and found, as I expected, that there was a mews in a lane which runs down by one wall of the garden. I lent the ostlers a hand in rubbing down their horses, and received in exchange twopence, a glass of half-and-half, two fills of shag tobacco, and as much information as I could desire about Miss Adler, to say nothing of half a dozen other people in the neighbourhood in whom I was not in the least interested, but whose biographies I was compelled to listen to.\n"
          ]
        }
      ]
    },
    {
      "cell_type": "code",
      "source": [
        "plt.plot(scores)\n",
        "plt.show()"
      ],
      "metadata": {
        "colab": {
          "base_uri": "https://localhost:8080/",
          "height": 265
        },
        "id": "1_keWXkP2uea",
        "outputId": "2034c475-d32d-4bd6-bc43-852ed4ff5bdb"
      },
      "execution_count": 33,
      "outputs": [
        {
          "output_type": "display_data",
          "data": {
            "text/plain": [
              "<Figure size 432x288 with 1 Axes>"
            ],
            "image/png": "[encoded data removed]"
          },
          "metadata": {
            "needs_background": "light"
          }
        }
      ]
    }
  ]
}