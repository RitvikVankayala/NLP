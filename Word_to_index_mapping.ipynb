{
  "nbformat": 4,
  "nbformat_minor": 0,
  "metadata": {
    "colab": {
      "provenance": [],
      "authorship_tag": "ABX9TyOh4Mwu0pKYcoK8DHEPDhei",
      "include_colab_link": true
    },
    "kernelspec": {
      "name": "python3",
      "display_name": "Python 3"
    },
    "language_info": {
      "name": "python"
    }
  },
  "cells": [
    {
      "cell_type": "markdown",
      "metadata": {
        "id": "view-in-github",
        "colab_type": "text"
      },
      "source": [
        "<a href=\"https://colab.research.google.com/github/RitvikVankayala/NLP/blob/main/Word_to_index_mapping.ipynb\" target=\"_parent\"><img src=\"https://colab.research.google.com/assets/colab-badge.svg\" alt=\"Open In Colab\"/></a>"
      ]
    },
    {
      "cell_type": "code",
      "source": [
        "import nltk\n",
        "from nltk import word_tokenize"
      ],
      "metadata": {
        "id": "eIyw-jqNM-uH"
      },
      "execution_count": 5,
      "outputs": []
    },
    {
      "cell_type": "markdown",
      "source": [
        "Here we will try the word to index mapping which will help in the Tf-Idf and count vectorizer implementation from the scratch"
      ],
      "metadata": {
        "id": "9HnJ1MOcMDk1"
      }
    },
    {
      "cell_type": "code",
      "source": [
        "current_idx=0\n",
        "document=['I love books','I like technology','I like books']\n",
        "word2idx={}"
      ],
      "metadata": {
        "id": "UGwJRpTbMQUN"
      },
      "execution_count": 6,
      "outputs": []
    },
    {
      "cell_type": "code",
      "source": [
        "for doc in document:\n",
        "  tokens=word_tokenize(doc)\n",
        "  for token in tokens:\n",
        "    if token not in word2idx:\n",
        "      word2idx[token]=current_idx\n",
        "      current_idx=current_idx+1"
      ],
      "metadata": {
        "id": "eCmmJIBKM2_A"
      },
      "execution_count": 7,
      "outputs": []
    }
  ]
}