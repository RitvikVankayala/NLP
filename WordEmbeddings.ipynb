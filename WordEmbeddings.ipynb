{
  "nbformat": 4,
  "nbformat_minor": 0,
  "metadata": {
    "colab": {
      "provenance": [],
      "authorship_tag": "ABX9TyOPQUAYwGVa/4IIH5q/RYZO",
      "include_colab_link": true
    },
    "kernelspec": {
      "name": "python3",
      "display_name": "Python 3"
    },
    "language_info": {
      "name": "python"
    }
  },
  "cells": [
    {
      "cell_type": "markdown",
      "metadata": {
        "id": "view-in-github",
        "colab_type": "text"
      },
      "source": [
        "<a href=\"https://colab.research.google.com/github/RitvikVankayala/NLP/blob/main/WordEmbeddings.ipynb\" target=\"_parent\"><img src=\"https://colab.research.google.com/assets/colab-badge.svg\" alt=\"Open In Colab\"/></a>"
      ]
    },
    {
      "cell_type": "code",
      "source": [
        "!wget -nc https://lazyprogrammer.me/course_files/nlp/GoogleNews-vectors-negative300.bin.gz"
      ],
      "metadata": {
        "id": "Zuk8G-VyXQ0G"
      },
      "execution_count": null,
      "outputs": []
    },
    {
      "cell_type": "code",
      "source": [
        "!gunzip GoogleNews-vectors-negative300.bin.gz"
      ],
      "metadata": {
        "id": "IOnNNWQfXz_d"
      },
      "execution_count": null,
      "outputs": []
    },
    {
      "cell_type": "markdown",
      "source": [
        "The bottom class have neccessary api for interacting with that dataset"
      ],
      "metadata": {
        "id": "QXtZmsfAZha9"
      }
    },
    {
      "cell_type": "code",
      "source": [
        "from gensim.models import KeyedVectors"
      ],
      "metadata": {
        "id": "pwOYHQlTZZhp"
      },
      "execution_count": 3,
      "outputs": []
    },
    {
      "cell_type": "code",
      "source": [
        "word_vectors=KeyedVectors.load_word2vec_format('GoogleNews-vectors-negative300.bin',binary=True)"
      ],
      "metadata": {
        "id": "iIp765FDZZgt"
      },
      "execution_count": 4,
      "outputs": []
    },
    {
      "cell_type": "code",
      "source": [
        "# for the word to vector technique\n",
        "def find_analogies(w1,w2,w3):\n",
        "  # w1-w2=?- w3\n",
        "  # ?=w1+w3-w2\n",
        "  r=word_vectors.most_similar(positive=[w1,w3],negative=[w2])\n",
        "  print(\"%s - %s = %s - %s\"%(w1,w2,r[0][0],w3))"
      ],
      "metadata": {
        "id": "aHo2SgAraSt2"
      },
      "execution_count": 7,
      "outputs": []
    },
    {
      "cell_type": "code",
      "source": [
        "find_analogies('king','man','woman')"
      ],
      "metadata": {
        "colab": {
          "base_uri": "https://localhost:8080/"
        },
        "id": "0qvu9J8Ta-tM",
        "outputId": "a31db70b-552e-467c-bc8a-115610402161"
      },
      "execution_count": 6,
      "outputs": [
        {
          "output_type": "stream",
          "name": "stdout",
          "text": [
            "king - man = queen - woman\n"
          ]
        }
      ]
    },
    {
      "cell_type": "code",
      "source": [
        "def nearest_neighbors(w):\n",
        "  r=word_vectors.most_similar(positive=[w])\n",
        "  print(\"neighbors of: %s\"%w)\n",
        "  for word,score in r:\n",
        "    print(\"\\t%s\"% word)"
      ],
      "metadata": {
        "id": "M94nACrkciNu"
      },
      "execution_count": 10,
      "outputs": []
    },
    {
      "cell_type": "code",
      "source": [
        "nearest_neighbors('king')"
      ],
      "metadata": {
        "colab": {
          "base_uri": "https://localhost:8080/"
        },
        "id": "5D6cMYdLe32T",
        "outputId": "c2223c98-0f72-46c9-bf7f-d2dc7d0e87a8"
      },
      "execution_count": 11,
      "outputs": [
        {
          "output_type": "stream",
          "name": "stdout",
          "text": [
            "neighbors of: king\n",
            "\tkings\n",
            "\tqueen\n",
            "\tmonarch\n",
            "\tcrown_prince\n",
            "\tprince\n",
            "\tsultan\n",
            "\truler\n",
            "\tprinces\n",
            "\tPrince_Paras\n",
            "\tthrone\n"
          ]
        }
      ]
    },
    {
      "cell_type": "code",
      "source": [
        "nearest_neighbors('france')"
      ],
      "metadata": {
        "colab": {
          "base_uri": "https://localhost:8080/"
        },
        "id": "WrCCDFPifCtz",
        "outputId": "5ae325aa-b77a-4c7f-ea2c-454e03ba9c2a"
      },
      "execution_count": 12,
      "outputs": [
        {
          "output_type": "stream",
          "name": "stdout",
          "text": [
            "neighbors of: france\n",
            "\tspain\n",
            "\tfrench\n",
            "\tgermany\n",
            "\teurope\n",
            "\titaly\n",
            "\tengland\n",
            "\teuropean\n",
            "\tbelgium\n",
            "\tusa\n",
            "\tserbia\n"
          ]
        }
      ]
    }
  ]
}