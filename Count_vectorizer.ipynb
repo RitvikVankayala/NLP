{
  "nbformat": 4,
  "nbformat_minor": 0,
  "metadata": {
    "colab": {
      "provenance": [],
      "authorship_tag": "ABX9TyPtIREwlSGxIitEvseb0zIJ",
      "include_colab_link": true
    },
    "kernelspec": {
      "name": "python3",
      "display_name": "Python 3"
    },
    "language_info": {
      "name": "python"
    }
  },
  "cells": [
    {
      "cell_type": "markdown",
      "metadata": {
        "id": "view-in-github",
        "colab_type": "text"
      },
      "source": [
        "<a href=\"https://colab.research.google.com/github/RitvikVankayala/NLP/blob/main/Count_vectorizer.ipynb\" target=\"_parent\"><img src=\"https://colab.research.google.com/assets/colab-badge.svg\" alt=\"Open In Colab\"/></a>"
      ]
    },
    {
      "cell_type": "code",
      "execution_count": 1,
      "metadata": {
        "id": "6M6tybN7kGrd"
      },
      "outputs": [],
      "source": [
        "import numpy as np\n",
        "import pandas as pd\n",
        "from sklearn.feature_extraction.text import CountVectorizer\n",
        "from sklearn.naive_bayes import MultinomialNB\n",
        "from sklearn.model_selection import train_test_split"
      ]
    },
    {
      "cell_type": "code",
      "source": [
        "import nltk\n",
        "from nltk import word_tokenize\n",
        "from nltk.stem import WordNetLemmatizer,PorterStemmer\n",
        "from nltk.corpus import wordnet"
      ],
      "metadata": {
        "id": "ZJANX0t-fcbj"
      },
      "execution_count": 2,
      "outputs": []
    },
    {
      "cell_type": "code",
      "source": [
        "nltk.download('omw-1.4')\n",
        "nltk.download('wordnet')\n",
        "nltk.download('punkt')\n",
        "nltk.download('averaged_perceptron_tagger')"
      ],
      "metadata": {
        "colab": {
          "base_uri": "https://localhost:8080/"
        },
        "id": "S0LMysPifrdU",
        "outputId": "c59c71f5-9f8f-4153-8984-097db512d9a9"
      },
      "execution_count": 3,
      "outputs": [
        {
          "output_type": "stream",
          "name": "stderr",
          "text": [
            "[nltk_data] Downloading package omw-1.4 to /root/nltk_data...\n",
            "[nltk_data] Downloading package wordnet to /root/nltk_data...\n",
            "[nltk_data] Downloading package punkt to /root/nltk_data...\n",
            "[nltk_data]   Unzipping tokenizers/punkt.zip.\n",
            "[nltk_data] Downloading package averaged_perceptron_tagger to\n",
            "[nltk_data]     /root/nltk_data...\n",
            "[nltk_data]   Unzipping taggers/averaged_perceptron_tagger.zip.\n"
          ]
        },
        {
          "output_type": "execute_result",
          "data": {
            "text/plain": [
              "True"
            ]
          },
          "metadata": {},
          "execution_count": 3
        }
      ]
    },
    {
      "cell_type": "markdown",
      "source": [
        "For the data set importing from any world wide web server !wget -nc is used"
      ],
      "metadata": {
        "id": "ZGuu-72IhdhR"
      }
    },
    {
      "cell_type": "code",
      "source": [
        "!wget -nc https://lazyprogrammer.me/course_files/nlp/bbc_text_cls.csv"
      ],
      "metadata": {
        "colab": {
          "base_uri": "https://localhost:8080/"
        },
        "id": "BwfTqi7vgUTB",
        "outputId": "32b0308a-e5b9-41c1-d7fe-64d57caeaf5f"
      },
      "execution_count": 4,
      "outputs": [
        {
          "output_type": "stream",
          "name": "stdout",
          "text": [
            "--2022-12-29 07:47:46--  https://lazyprogrammer.me/course_files/nlp/bbc_text_cls.csv\n",
            "Resolving lazyprogrammer.me (lazyprogrammer.me)... 172.67.213.166, 104.21.23.210, 2606:4700:3031::6815:17d2, ...\n",
            "Connecting to lazyprogrammer.me (lazyprogrammer.me)|172.67.213.166|:443... connected.\n",
            "HTTP request sent, awaiting response... 200 OK\n",
            "Length: 5085081 (4.8M) [text/csv]\n",
            "Saving to: ‘bbc_text_cls.csv’\n",
            "\n",
            "bbc_text_cls.csv    100%[===================>]   4.85M  --.-KB/s    in 0.08s   \n",
            "\n",
            "2022-12-29 07:47:47 (58.0 MB/s) - ‘bbc_text_cls.csv’ saved [5085081/5085081]\n",
            "\n"
          ]
        }
      ]
    },
    {
      "cell_type": "code",
      "source": [
        "df=pd.read_csv('bbc_text_cls.csv')"
      ],
      "metadata": {
        "id": "Nx62FT4GhmVC"
      },
      "execution_count": 5,
      "outputs": []
    },
    {
      "cell_type": "code",
      "source": [
        "# how the data looks like\n",
        "df.head()\n",
        "len(df)"
      ],
      "metadata": {
        "colab": {
          "base_uri": "https://localhost:8080/"
        },
        "id": "7u7XV4weh275",
        "outputId": "e7d94fb1-9e57-4eac-a28d-8552bd4b22d1"
      },
      "execution_count": 6,
      "outputs": [
        {
          "output_type": "execute_result",
          "data": {
            "text/plain": [
              "2225"
            ]
          },
          "metadata": {},
          "execution_count": 6
        }
      ]
    },
    {
      "cell_type": "code",
      "source": [
        "inputs=df['text']\n",
        "labels=df['labels']\n",
        "print(inputs)"
      ],
      "metadata": {
        "id": "_RWt8hRdiAGx",
        "colab": {
          "base_uri": "https://localhost:8080/"
        },
        "outputId": "844b61ef-32fb-46ae-ef12-dde8ad49392d"
      },
      "execution_count": 7,
      "outputs": [
        {
          "output_type": "stream",
          "name": "stdout",
          "text": [
            "0       Ad sales boost Time Warner profit\\n\\nQuarterly...\n",
            "1       Dollar gains on Greenspan speech\\n\\nThe dollar...\n",
            "2       Yukos unit buyer faces loan claim\\n\\nThe owner...\n",
            "3       High fuel prices hit BA's profits\\n\\nBritish A...\n",
            "4       Pernod takeover talk lifts Domecq\\n\\nShares in...\n",
            "                              ...                        \n",
            "2220    BT program to beat dialler scams\\n\\nBT is intr...\n",
            "2221    Spam e-mails tempt net shoppers\\n\\nComputer us...\n",
            "2222    Be careful how you code\\n\\nA new European dire...\n",
            "2223    US cyber security chief resigns\\n\\nThe man mak...\n",
            "2224    Losing yourself in online gaming\\n\\nOnline rol...\n",
            "Name: text, Length: 2225, dtype: object\n"
          ]
        }
      ]
    },
    {
      "cell_type": "markdown",
      "source": [
        "For plotting a histogram for analysing the data"
      ],
      "metadata": {
        "id": "YRoFSRY9ifry"
      }
    },
    {
      "cell_type": "code",
      "source": [
        "labels.hist(figsize=(10,5))"
      ],
      "metadata": {
        "colab": {
          "base_uri": "https://localhost:8080/",
          "height": 337
        },
        "id": "envUpNdkiXWD",
        "outputId": "090fcc76-68dd-4a88-d57d-348532372219"
      },
      "execution_count": 8,
      "outputs": [
        {
          "output_type": "execute_result",
          "data": {
            "text/plain": [
              "<matplotlib.axes._subplots.AxesSubplot at 0x7f4c5e10be80>"
            ]
          },
          "metadata": {},
          "execution_count": 8
        },
        {
          "output_type": "display_data",
          "data": {
            "text/plain": [
              "<Figure size 720x360 with 1 Axes>"
            ],
            "image/png": "[encoded data removed]"
          },
          "metadata": {
            "needs_background": "light"
          }
        }
      ]
    },
    {
      "cell_type": "markdown",
      "source": [
        "For getting a subset of the dataset"
      ],
      "metadata": {
        "id": "Ce5dkzGYkOb_"
      }
    },
    {
      "cell_type": "code",
      "source": [
        "inputs_train,inputs_test,Ytrain,Ytest=train_test_split(inputs,labels,test_size=0.2,random_state=123)"
      ],
      "metadata": {
        "id": "4n_nQqIFi4WN"
      },
      "execution_count": 9,
      "outputs": []
    },
    {
      "cell_type": "code",
      "source": [
        "vectorizer=CountVectorizer()"
      ],
      "metadata": {
        "id": "HumRLnAxkR7K"
      },
      "execution_count": 10,
      "outputs": []
    },
    {
      "cell_type": "code",
      "source": [
        "Xtrain=vectorizer.fit_transform(inputs_train)\n",
        "Xtest=vectorizer.transform(inputs_test)"
      ],
      "metadata": {
        "id": "AtrId3pxkuhn"
      },
      "execution_count": 11,
      "outputs": []
    },
    {
      "cell_type": "code",
      "source": [
        "Xtrain.toarray()"
      ],
      "metadata": {
        "colab": {
          "base_uri": "https://localhost:8080/"
        },
        "id": "2XZYCs3Il6W8",
        "outputId": "0e941c32-4bf6-4f30-d320-a1613fd541de"
      },
      "execution_count": 12,
      "outputs": [
        {
          "output_type": "execute_result",
          "data": {
            "text/plain": [
              "array([[0, 2, 0, ..., 0, 0, 0],\n",
              "       [0, 0, 0, ..., 0, 0, 0],\n",
              "       [0, 2, 0, ..., 0, 0, 0],\n",
              "       ...,\n",
              "       [0, 0, 0, ..., 0, 0, 0],\n",
              "       [0, 0, 0, ..., 0, 0, 0],\n",
              "       [0, 0, 0, ..., 0, 0, 0]])"
            ]
          },
          "metadata": {},
          "execution_count": 12
        }
      ]
    },
    {
      "cell_type": "code",
      "source": [
        "# vectorizer.get_feature_names()"
      ],
      "metadata": {
        "id": "4BxJ2BN3F-LN"
      },
      "execution_count": 37,
      "outputs": []
    },
    {
      "cell_type": "code",
      "source": [
        "(Xtrain!=0).sum()"
      ],
      "metadata": {
        "colab": {
          "base_uri": "https://localhost:8080/"
        },
        "id": "77zsSslgmTSS",
        "outputId": "71b4ca84-74a8-4393-c087-c2fce4c0a2e3"
      },
      "execution_count": 14,
      "outputs": [
        {
          "output_type": "execute_result",
          "data": {
            "text/plain": [
              "359094"
            ]
          },
          "metadata": {},
          "execution_count": 14
        }
      ]
    },
    {
      "cell_type": "markdown",
      "source": [
        "Percentage of non zero values\n"
      ],
      "metadata": {
        "id": "03R73XcTqmDZ"
      }
    },
    {
      "cell_type": "code",
      "source": [
        "(Xtrain!=0).sum()/np.prod(Xtrain.shape)"
      ],
      "metadata": {
        "colab": {
          "base_uri": "https://localhost:8080/"
        },
        "id": "E46Ex2qGqAMZ",
        "outputId": "0d8f047a-43d3-45f2-9ff7-7c7ae6c8db44"
      },
      "execution_count": 15,
      "outputs": [
        {
          "output_type": "execute_result",
          "data": {
            "text/plain": [
              "0.0074912069159744155"
            ]
          },
          "metadata": {},
          "execution_count": 15
        }
      ]
    },
    {
      "cell_type": "code",
      "source": [
        "# test=vectorizer.fit_transform(['hi how are you, how are you doing?','hey whats app,how are you doing with your work'])"
      ],
      "metadata": {
        "id": "ANYrEPQLqjSV"
      },
      "execution_count": 16,
      "outputs": []
    },
    {
      "cell_type": "code",
      "source": [
        "# test.toarray()"
      ],
      "metadata": {
        "id": "asCjiqoiFt0d"
      },
      "execution_count": 17,
      "outputs": []
    },
    {
      "cell_type": "code",
      "source": [
        "# vectorizer.get_feature_names()"
      ],
      "metadata": {
        "id": "60XdfqgeFywV"
      },
      "execution_count": 18,
      "outputs": []
    },
    {
      "cell_type": "code",
      "source": [
        "model=MultinomialNB()\n",
        "model.fit(Xtrain,Ytrain)\n",
        "print(\"test_score\",model.score(Xtrain,Ytrain))\n",
        "print(\"test_score\",model.score(Xtest,Ytest))"
      ],
      "metadata": {
        "colab": {
          "base_uri": "https://localhost:8080/"
        },
        "id": "tOgZz4UUIWvj",
        "outputId": "020ca451-1d17-4e13-da80-1944012d799d"
      },
      "execution_count": 19,
      "outputs": [
        {
          "output_type": "stream",
          "name": "stdout",
          "text": [
            "test_score 0.9921348314606742\n",
            "test_score 0.9685393258426966\n"
          ]
        }
      ]
    },
    {
      "cell_type": "markdown",
      "source": [
        "Now we will try to increase the accuracy of the prediction"
      ],
      "metadata": {
        "id": "TnHi6HXGKdCl"
      }
    },
    {
      "cell_type": "code",
      "source": [
        "#stop words\n",
        "vectorizer=CountVectorizer(stop_words='english',min_df=1)\n",
        "Xtrain=vectorizer.fit_transform(inputs_train)\n",
        "Xtest=vectorizer.transform(inputs_test)\n",
        "model=MultinomialNB()\n",
        "model.fit(Xtrain,Ytrain)\n",
        "print(\"test_score\",model.score(Xtrain,Ytrain))\n",
        "print(\"test_score\",model.score(Xtest,Ytest))"
      ],
      "metadata": {
        "colab": {
          "base_uri": "https://localhost:8080/"
        },
        "id": "QcVw894gKcjV",
        "outputId": "4afd9221-79d2-449d-a0d8-4b77cd3a7d61"
      },
      "execution_count": 35,
      "outputs": [
        {
          "output_type": "stream",
          "name": "stdout",
          "text": [
            "test_score 0.9932584269662922\n",
            "test_score 0.9730337078651685\n"
          ]
        }
      ]
    },
    {
      "cell_type": "markdown",
      "source": [
        "Now we will try to lemmatize the data for better accuracy"
      ],
      "metadata": {
        "id": "i3NGeNfSLnJC"
      }
    },
    {
      "cell_type": "code",
      "source": [
        "#token_converter\n",
        "\n",
        "def get_wordnet_pos(treebank_tag):\n",
        "  if(treebank_tag.startswith('J')):\n",
        "    return wordnet.ADJ\n",
        "  elif(treebank_tag.startswith('V')):\n",
        "    return wordnet.VERB\n",
        "  elif(treebank_tag.startswith('N')):\n",
        "    return wordnet.NOUN\n",
        "  elif (treebank_tag.startswith('R')):\n",
        "    return wordnet.ADV\n",
        "  else:\n",
        "      return wordnet.NOUN\n"
      ],
      "metadata": {
        "id": "ZgsvX7IcLlkD"
      },
      "execution_count": 21,
      "outputs": []
    },
    {
      "cell_type": "markdown",
      "source": [
        "Creating LemmaTokenizer class with constructor _init_ with an instance of wordnetlemmatizer and a _call_ for running the lemmatize function on the document"
      ],
      "metadata": {
        "id": "dUV2yO3eVygJ"
      }
    },
    {
      "cell_type": "markdown",
      "source": [
        "And also find the reason why the class based function is not working"
      ],
      "metadata": {
        "id": "bddBDZ6j8fTd"
      }
    },
    {
      "cell_type": "code",
      "source": [
        "# class LemmaTokenizer:\n",
        "#   def __init__(self) :\n",
        "#     self.wnl=WordNetLemmatizer()\n",
        "#   def _call_(self,doc):\n",
        "#     tokens=word_tokenize(doc)\n",
        "#     words_and_tags=nltk.pos_tag(tokens)\n",
        "#     return [self.wnl.lemmatize(word,pos=get_wordnet_pos(tag))\\\n",
        "#             for word, tag in words_and_tags]\n",
        "def LemmaTokenizer(doc):\n",
        "  wnl=WordNetLemmatizer()\n",
        "  tokens=word_tokenize(doc)\n",
        "  words_and_tags=nltk.pos_tag(tokens)\n",
        "  return [wnl.lemmatize(word,pos=get_wordnet_pos(tag))\\\n",
        "          for word,tag in words_and_tags]"
      ],
      "metadata": {
        "id": "oVRYINKtUdbU"
      },
      "execution_count": 49,
      "outputs": []
    },
    {
      "cell_type": "code",
      "source": [
        " # Lemmatization\n",
        "vectorizer=CountVectorizer(tokenizer=LemmaTokenizer)\n",
        "Xtrain=vectorizer.fit_transform(inputs_train)\n",
        "print(Xtrain.shape)\n",
        "Xtest=vectorizer.transform(inputs_test)\n",
        "model=MultinomialNB()\n",
        "model.fit(Xtrain,Ytrain)\n",
        "print(\"test_score\",model.score(Xtrain,Ytrain))\n",
        "print(\"test_score\",model.score(Xtest,Ytest))"
      ],
      "metadata": {
        "colab": {
          "base_uri": "https://localhost:8080/"
        },
        "id": "KolRQgevWVnd",
        "outputId": "d1fd370b-87f6-42b9-a570-226e7cf7215d"
      },
      "execution_count": 57,
      "outputs": [
        {
          "output_type": "stream",
          "name": "stdout",
          "text": [
            "(1780, 26733)\n",
            "test_score 0.9921348314606742\n",
            "test_score 0.9662921348314607\n"
          ]
        }
      ]
    },
    {
      "cell_type": "markdown",
      "source": [
        "Try to find the reason why the class based function is not working"
      ],
      "metadata": {
        "id": "3v6wZFhP7gdX"
      }
    },
    {
      "cell_type": "code",
      "source": [
        "# class StemTokenizer:\n",
        "#   def __init__(self):\n",
        "#     self.porter=PorterStemmer()\n",
        "#   def _call_(self,doc):\n",
        "#     tokens=word_tokenize(doc)\n",
        "#     return [self.porter.stem(t) for t in tokens]\n",
        "\n",
        "def StemTokenizer(doc):\n",
        "  porter=PorterStemmer()\n",
        "  tokens=word_tokenize(doc)\n",
        "  return [porter.stem(t) for t in tokens]"
      ],
      "metadata": {
        "id": "JhQtBJ_X2zPO"
      },
      "execution_count": 45,
      "outputs": []
    },
    {
      "cell_type": "code",
      "source": [
        "# Stemming\n",
        "vectorizer=CountVectorizer(tokenizer=StemTokenizer)\n",
        "Xtrain=vectorizer.fit_transform(inputs_train)\n",
        "print(Xtrain.shape)\n",
        "Xtest=vectorizer.transform(inputs_test)\n",
        "model=MultinomialNB()\n",
        "model.fit(Xtrain,Ytrain)\n",
        "print(\"test_score\",model.score(Xtrain,Ytrain))\n",
        "print(\"test_score\",model.score(Xtest,Ytest))"
      ],
      "metadata": {
        "colab": {
          "base_uri": "https://localhost:8080/"
        },
        "id": "RKpf0e-M3UZ_",
        "outputId": "509269de-d988-4534-88d1-e100640e4691"
      },
      "execution_count": 56,
      "outputs": [
        {
          "output_type": "stream",
          "name": "stdout",
          "text": [
            "(1780, 23486)\n",
            "test_score 0.9898876404494382\n",
            "test_score 0.9685393258426966\n"
          ]
        }
      ]
    },
    {
      "cell_type": "code",
      "source": [
        "def simple_tokenizer(s):\n",
        "  return s.split()"
      ],
      "metadata": {
        "id": "tZhzUlwh5BFy"
      },
      "execution_count": 39,
      "outputs": []
    },
    {
      "cell_type": "code",
      "source": [
        "# string split tokenizer\n",
        "vectorizer=CountVectorizer(tokenizer=simple_tokenizer)\n",
        "Xtrain=vectorizer.fit_transform(inputs_train)\n",
        "print(Xtrain.shape)\n",
        "Xtest=vectorizer.transform(inputs_test)\n",
        "model=MultinomialNB()\n",
        "model.fit(Xtrain,Ytrain)\n",
        "print(\"test_score\",model.score(Xtrain,Ytrain))\n",
        "print(\"test_score\",model.score(Xtest,Ytest))"
      ],
      "metadata": {
        "colab": {
          "base_uri": "https://localhost:8080/"
        },
        "id": "J8Rpdfpb6J6a",
        "outputId": "9dcc3294-0a6a-45f7-eefb-1bd100609529"
      },
      "execution_count": 55,
      "outputs": [
        {
          "output_type": "stream",
          "name": "stdout",
          "text": [
            "(1780, 53824)\n",
            "test_score 0.9955056179775281\n",
            "test_score 0.9707865168539326\n"
          ]
        }
      ]
    }
  ]
}