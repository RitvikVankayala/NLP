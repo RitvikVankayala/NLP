{
  "nbformat": 4,
  "nbformat_minor": 0,
  "metadata": {
    "colab": {
      "provenance": [],
      "authorship_tag": "ABX9TyMK7LWan2LHLSJxVwBEmYHb",
      "include_colab_link": true
    },
    "kernelspec": {
      "name": "python3",
      "display_name": "Python 3"
    },
    "language_info": {
      "name": "python"
    }
  },
  "cells": [
    {
      "cell_type": "markdown",
      "metadata": {
        "id": "view-in-github",
        "colab_type": "text"
      },
      "source": [
        "<a href=\"https://colab.research.google.com/github/RitvikVankayala/NLP/blob/main/Poem_Generator.ipynb\" target=\"_parent\"><img src=\"https://colab.research.google.com/assets/colab-badge.svg\" alt=\"Open In Colab\"/></a>"
      ]
    },
    {
      "cell_type": "code",
      "execution_count": 1,
      "metadata": {
        "id": "hqvVQO9Iu5Ku"
      },
      "outputs": [],
      "source": [
        "import numpy as np\n",
        "import string"
      ]
    },
    {
      "cell_type": "code",
      "source": [
        "# storing single order and 2nd order transition matrixes in dictionaries\n",
        "\n",
        "initial={}\n",
        "first_order={}\n",
        "second_order={}"
      ],
      "metadata": {
        "id": "W7aPZp_XU2QI"
      },
      "execution_count": 2,
      "outputs": []
    },
    {
      "cell_type": "code",
      "source": [
        "def remove_punctuation(s):\n",
        "  return s.translate(str.maketrans('','',string.punctuation))"
      ],
      "metadata": {
        "id": "bFs-jthFVBMm"
      },
      "execution_count": 3,
      "outputs": []
    },
    {
      "cell_type": "code",
      "source": [
        "!wget -nc https://raw.githubusercontent.com/lazyprogrammer/machine_learning_examples/master/hmm_class/robert_frost.txt"
      ],
      "metadata": {
        "id": "fDvGAATzVaY0"
      },
      "execution_count": null,
      "outputs": []
    },
    {
      "cell_type": "code",
      "source": [
        "def add2dic(d,k,v):\n",
        "  # d - dictionary\n",
        "  # k - key\n",
        "  # v - value\n",
        "  if k not in d:\n",
        "    d[k]=[]\n",
        "  d[k].append(v)\n"
      ],
      "metadata": {
        "id": "7H0vt3kxVzF6"
      },
      "execution_count": 6,
      "outputs": []
    },
    {
      "cell_type": "code",
      "source": [
        "for line in open('robert_frost.txt'):\n",
        "  tokens= remove_punctuation(line.rstrip().lower()).split()\n",
        "  \n",
        "  T=len(tokens)\n",
        "  for i in range(T):\n",
        "    t=tokens[i]\n",
        "    if i==0:\n",
        "      # transition matrix for pi\n",
        "      initial[t]=initial.get(t,0.)+1\n",
        "    else:\n",
        "      t_1=tokens[i-1]\n",
        "      if i==T-1:\n",
        "        # transition matrix for second order that too the last two idx\n",
        "        add2dic(second_order,(t_1,t),'END')\n",
        "      if i==1:\n",
        "        # transition matrix for the second word that is markov first order matrix\n",
        "        add2dic(first_order,t_1,t)\n",
        "      else:\n",
        "        # transition matrix for the second_order markov model\n",
        "        t_2=tokens[i-2]\n",
        "        add2dic(second_order,(t_2,t_1),t) "
      ],
      "metadata": {
        "id": "DZPLQm8PWmHn"
      },
      "execution_count": 9,
      "outputs": []
    },
    {
      "cell_type": "code",
      "source": [
        "# normalize initial state distribution matrix \n",
        "initial_total=sum(initial.values())\n",
        "for t,c in initial.items():\n",
        "  initial[t]=c/initial_total"
      ],
      "metadata": {
        "id": "KUNy5-JQat8N"
      },
      "execution_count": 10,
      "outputs": []
    },
    {
      "cell_type": "code",
      "source": [
        "# our task is now to convert the list of words in the dic to prediction values that is the probs\n",
        "def list2pred(ts):\n",
        "  d={}\n",
        "  n=len(ts)\n",
        "  for t in ts:\n",
        "    d[t]=d.get(t,0.)+1\n",
        "  for a,b in d.items():\n",
        "    d[t]=b/n\n",
        "  return d\n"
      ],
      "metadata": {
        "id": "JZvZ0wiOcblR"
      },
      "execution_count": 11,
      "outputs": []
    },
    {
      "cell_type": "code",
      "source": [
        "# using the generated function for the usage of first and second order transition matrix\n",
        "\n",
        "for t_1,ts in first_order.items():\n",
        "  # replace list with dic\n",
        "  first_order[t_1]=list2pred(ts)\n"
      ],
      "metadata": {
        "id": "sau71WmQd9c8"
      },
      "execution_count": 12,
      "outputs": []
    },
    {
      "cell_type": "code",
      "source": [
        "for k,ts in second_order.items():\n",
        "  # replace list with dics\n",
        "  second_order[k]=list2pred(ts)"
      ],
      "metadata": {
        "id": "08XtCYI3eXtq"
      },
      "execution_count": 13,
      "outputs": []
    },
    {
      "cell_type": "code",
      "source": [
        "def sample_word(d):\n",
        "  # for the uniform distribution\n",
        "  # p0 will be in between 0 and 1\n",
        "  p0=np.random.random()\n",
        "  cummulative=0\n",
        "  for t,p in d.items():\n",
        "    cummulative+=p\n",
        "    if p0<cummulative:\n",
        "      return t\n",
        "  assert(False)\n"
      ],
      "metadata": {
        "id": "VPndcp9dh2LT"
      },
      "execution_count": 14,
      "outputs": []
    },
    {
      "cell_type": "code",
      "source": [
        "def generate():\n",
        "  for i in range(5):\n",
        "    sentence=[]\n",
        "\n",
        "    #sample the first word\n",
        "    w0=sample_word(initial)\n",
        "    sentence.append(w0)\n",
        "\n",
        "    #sample the second word\n",
        "    w1=sample_word(first_order[w0])\n",
        "    sentence.append(w1)\n",
        "\n",
        "    # sample the third word\n",
        "    while True:\n",
        "      w2=sample_word(second_order[(w0,w1)])\n",
        "      if(w2=='END'):\n",
        "        break\n",
        "      sentence.append(w2)\n",
        "      w0=w1\n",
        "      w1=w2\n",
        "    print(' '.join(sentence))"
      ],
      "metadata": {
        "id": "C3pGYGLmjwVE"
      },
      "execution_count": 19,
      "outputs": []
    },
    {
      "cell_type": "code",
      "source": [
        "generate()"
      ],
      "metadata": {
        "colab": {
          "base_uri": "https://localhost:8080/"
        },
        "id": "k3VEoRmAle_e",
        "outputId": "d20e6b18-037c-4006-d92e-bc8f2846d5ba"
      },
      "execution_count": 21,
      "outputs": [
        {
          "output_type": "stream",
          "name": "stdout",
          "text": [
            "of easy wind and downy flake\n",
            "old davis owned a solid mica mountain\n",
            "i doubted if i should ever come back\n",
            "i doubted if i should ever come back\n",
            "and sorry i could not travel both\n"
          ]
        }
      ]
    }
  ]
}